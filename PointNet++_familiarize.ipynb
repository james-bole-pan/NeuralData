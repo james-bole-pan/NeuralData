{
  "nbformat": 4,
  "nbformat_minor": 0,
  "metadata": {
    "colab": {
      "provenance": [],
      "include_colab_link": true
    },
    "kernelspec": {
      "name": "python3",
      "display_name": "Python 3"
    },
    "language_info": {
      "name": "python"
    },
    "accelerator": "GPU",
    "gpuClass": "standard"
  },
  "cells": [
    {
      "cell_type": "markdown",
      "metadata": {
        "id": "view-in-github",
        "colab_type": "text"
      },
      "source": [
        "<a href=\"https://colab.research.google.com/github/jamespan1118/NeuralData/blob/main/PointNet%2B%2B_familiarize.ipynb\" target=\"_parent\"><img src=\"https://colab.research.google.com/assets/colab-badge.svg\" alt=\"Open In Colab\"/></a>"
      ]
    },
    {
      "cell_type": "code",
      "source": [
        "from google.colab import drive\n",
        "drive.mount('/content/drive')"
      ],
      "metadata": {
        "id": "LH2sc_jRDdd-",
        "colab": {
          "base_uri": "https://localhost:8080/"
        },
        "outputId": "8fd3ae38-0d1f-498b-b722-a53230d2d3da"
      },
      "execution_count": 1,
      "outputs": [
        {
          "output_type": "stream",
          "name": "stdout",
          "text": [
            "Mounted at /content/drive\n"
          ]
        }
      ]
    },
    {
      "cell_type": "code",
      "source": [
        "import numpy as np\n",
        "import torch\n",
        "import torchvision\n",
        "from torch import nn\n",
        "from torch.nn import functional as F\n",
        "from torch.utils.data import Dataset, DataLoader\n",
        "import plotly.graph_objects as go\n",
        "import random\n",
        "from sklearn.model_selection import train_test_split"
      ],
      "metadata": {
        "id": "Or109alghqH6"
      },
      "execution_count": 2,
      "outputs": []
    },
    {
      "cell_type": "markdown",
      "source": [
        "###Data loading"
      ],
      "metadata": {
        "id": "5PplIhPWhq_7"
      }
    },
    {
      "cell_type": "code",
      "source": [
        "class NeuralData(Dataset):\n",
        "  def __init__(self,data,transform=None):\n",
        "     \n",
        "     self.x = data[:,0]\n",
        "     self.y = data[:,1]\n",
        "     self.n_samples = data.shape[0]\n",
        "     self.transform = transform\n",
        "\n",
        "  def __getitem__(self,index):\n",
        "    sample = self.x[index],self.y[index]\n",
        "    if self.transform:\n",
        "      sample = self.transform(sample)\n",
        "    return sample\n",
        "\n",
        "  def __len__(self):\n",
        "    return self.n_samples\n",
        "\n",
        "# Downsample function for each spike sequence\n",
        "class Downsample:\n",
        "  def __init__(self,samplesize):\n",
        "    self.samplesize=samplesize\n",
        "  \n",
        "  def __call__(self,sample):\n",
        "    features,label = sample\n",
        "    idx = np.random.randint(len(features), size=self.samplesize)\n",
        "    return features[idx,:],label\n",
        "\n",
        "# Return only three elements\n",
        "class Pickthree:\n",
        "  def __call__(self,sample):\n",
        "    features,label = sample\n",
        "    return features[:,1:],label\n",
        "\n",
        "composed = torchvision.transforms.Compose([\n",
        "    Downsample(1000),\n",
        "    Pickthree()\n",
        "])"
      ],
      "metadata": {
        "id": "1qQ_9ZoOp9I_"
      },
      "execution_count": 3,
      "outputs": []
    },
    {
      "cell_type": "code",
      "source": [
        "data = np.load('/content/drive/MyDrive/modelnet/stacked.npy',allow_pickle=True)\n",
        "len_data = data.shape[0]\n",
        "train_idx, val_idx = train_test_split([i for i in range(len_data)],test_size=0.2,)\n",
        "\n",
        "train_dataset = NeuralData(data=data[train_idx, :],transform=composed)\n",
        "val_dataset = NeuralData(data=data[val_idx, :], transform=composed)"
      ],
      "metadata": {
        "id": "4Tg0iOkB2emS"
      },
      "execution_count": 4,
      "outputs": []
    },
    {
      "cell_type": "code",
      "source": [
        "len(train_idx) / 32"
      ],
      "metadata": {
        "colab": {
          "base_uri": "https://localhost:8080/"
        },
        "id": "MXEavOnD0WSx",
        "outputId": "8435cdf8-8918-449d-ce99-30d34be7a3d3"
      },
      "execution_count": 5,
      "outputs": [
        {
          "output_type": "execute_result",
          "data": {
            "text/plain": [
              "7.125"
            ]
          },
          "metadata": {},
          "execution_count": 5
        }
      ]
    },
    {
      "cell_type": "code",
      "source": [
        "train_dataloader = DataLoader(dataset=train_dataset,batch_size=16,shuffle=True)\n",
        "val_dataloader = DataLoader(dataset=val_dataset,batch_size=16,shuffle=False)"
      ],
      "metadata": {
        "id": "qoh4F6OuSXyj"
      },
      "execution_count": 6,
      "outputs": []
    },
    {
      "cell_type": "code",
      "source": [
        "#testing that dataloader works\n",
        "train_dataiter = iter(val_dataloader)\n",
        "data = train_dataiter.next()\n",
        "features,label = data\n",
        "print(features,label)"
      ],
      "metadata": {
        "colab": {
          "base_uri": "https://localhost:8080/"
        },
        "id": "DHEOFPKwSOp0",
        "outputId": "b8a3e3b6-8f96-4d92-ee37-219afffdfc80"
      },
      "execution_count": 7,
      "outputs": [
        {
          "output_type": "stream",
          "name": "stdout",
          "text": [
            "tensor([[[ 6.5998e+01,  3.4828e+02,  1.3500e+01],\n",
            "         [ 2.2724e+01,  3.1036e+03,  1.0124e+01],\n",
            "         [ 6.3814e+01,  1.5518e+03,  1.0345e+01],\n",
            "         ...,\n",
            "         [ 2.7233e+01,  3.2353e+03,  1.0018e+01],\n",
            "         [ 9.6589e+00,  1.3651e+03,  1.2022e+01],\n",
            "         [ 7.4369e+01,  1.4562e+03,  7.8082e+00]],\n",
            "\n",
            "        [[ 2.3775e+01,  1.8485e+03,  1.0355e+01],\n",
            "         [ 6.3191e+01,  3.7277e+03,  1.0888e+01],\n",
            "         [ 3.9828e+01,  8.3629e+02,  9.1009e+00],\n",
            "         ...,\n",
            "         [ 1.4255e+01,  6.0443e+02,  5.2517e+00],\n",
            "         [ 6.2377e+01,  9.5016e+02,  1.2483e+01],\n",
            "         [ 6.2678e+00,  5.5068e+02,  6.3935e+00]],\n",
            "\n",
            "        [[ 5.6081e+01,  6.0241e+02,  1.1815e+01],\n",
            "         [ 1.2657e+01,  3.0549e+03,  6.2102e+00],\n",
            "         [ 2.3314e+01,  3.4298e+03,  7.5869e+00],\n",
            "         ...,\n",
            "         [ 5.4558e+01,  3.5685e+03,  1.1930e+01],\n",
            "         [ 1.4987e+00,  1.1408e+03,  7.4595e+00],\n",
            "         [ 4.0993e+01,  1.8326e+03,  8.7807e+00]],\n",
            "\n",
            "        ...,\n",
            "\n",
            "        [[ 1.7874e+01,  3.1475e+03,  8.3659e+00],\n",
            "         [ 3.7772e+01,  1.0699e+03,  7.9847e+00],\n",
            "         [ 5.8987e+01,  1.4720e+03,  1.0972e+01],\n",
            "         ...,\n",
            "         [ 7.7932e+01,  4.0739e+02,  8.5313e+00],\n",
            "         [ 6.7507e+01,  1.1432e+03,  1.0796e+01],\n",
            "         [ 6.3551e+01,  1.3808e+03,  6.8384e+00]],\n",
            "\n",
            "        [[ 3.8266e+01,  3.7720e+03,  7.6348e+00],\n",
            "         [ 2.1224e+01,  9.7940e+02,  9.1271e+00],\n",
            "         [ 6.9988e+01,  1.6418e+03,  7.7114e+00],\n",
            "         ...,\n",
            "         [-3.8706e+00,  5.0658e+02,  3.9388e+00],\n",
            "         [-9.0147e+00,  5.0075e+02,  4.9915e+00],\n",
            "         [ 5.6657e+01,  3.0482e+03,  6.4208e+00]],\n",
            "\n",
            "        [[ 6.7380e+00,  1.3733e+03,  1.3400e+01],\n",
            "         [ 3.9311e+01,  1.8277e+03,  9.4718e+00],\n",
            "         [ 5.1700e+01,  4.9396e+02,  5.4949e+00],\n",
            "         ...,\n",
            "         [ 5.5365e+01,  2.0017e+03,  9.1308e+00],\n",
            "         [ 5.8899e+01,  1.6524e+03,  1.0409e+01],\n",
            "         [ 2.5266e+01,  5.5498e+02,  1.2449e+01]]], dtype=torch.float64) tensor([0., 0., 0., 0., 1., 0., 0., 0., 0., 1., 1., 1., 0., 1., 0., 0.],\n",
            "       dtype=torch.float64)\n"
          ]
        }
      ]
    },
    {
      "cell_type": "markdown",
      "source": [
        "### Model"
      ],
      "metadata": {
        "id": "mLCKj6FUUpyF"
      }
    },
    {
      "cell_type": "code",
      "source": [
        "class Tnet(nn.Module):\n",
        "   def __init__(self, k=3):\n",
        "      super().__init__()\n",
        "      self.k=k\n",
        "      self.conv1 = nn.Conv1d(k,64,1)\n",
        "      self.conv2 = nn.Conv1d(64,128,1)\n",
        "      self.conv3 = nn.Conv1d(128,1024,1)\n",
        "      self.fc1 = nn.Linear(1024,512)\n",
        "      self.fc2 = nn.Linear(512,256)\n",
        "      self.fc3 = nn.Linear(256,k*k)\n",
        "\n",
        "      self.bn1 = nn.BatchNorm1d(64)\n",
        "      self.bn2 = nn.BatchNorm1d(128)\n",
        "      self.bn3 = nn.BatchNorm1d(1024)\n",
        "      self.bn4 = nn.BatchNorm1d(512)\n",
        "      self.bn5 = nn.BatchNorm1d(256)\n",
        "       \n",
        "\n",
        "   def forward(self, input):\n",
        "      # input.shape == (bs,n,3)\n",
        "      bs = input.size(0)\n",
        "      xb = F.relu(self.bn1(self.conv1(input)))\n",
        "      xb = F.relu(self.bn2(self.conv2(xb)))\n",
        "      xb = F.relu(self.bn3(self.conv3(xb)))\n",
        "      pool = nn.MaxPool1d(xb.size(-1))(xb)\n",
        "      flat = nn.Flatten(1)(pool)\n",
        "      xb = F.relu(self.bn4(self.fc1(flat)))\n",
        "      xb = F.relu(self.bn5(self.fc2(xb)))\n",
        "      \n",
        "      #initialize as identity\n",
        "      init = torch.eye(self.k, requires_grad=True).repeat(bs,1,1)\n",
        "      if xb.is_cuda:\n",
        "        init=init.cuda()\n",
        "      matrix = self.fc3(xb).view(-1,self.k,self.k) + init\n",
        "      return matrix\n",
        "\n",
        "\n",
        "class Transform(nn.Module):\n",
        "   def __init__(self):\n",
        "        super().__init__()\n",
        "        self.input_transform = Tnet(k=3)\n",
        "        self.feature_transform = Tnet(k=64)\n",
        "        self.conv1 = nn.Conv1d(3,64,1)\n",
        "\n",
        "        self.conv2 = nn.Conv1d(64,128,1)\n",
        "        self.conv3 = nn.Conv1d(128,1024,1)\n",
        "       \n",
        "\n",
        "        self.bn1 = nn.BatchNorm1d(64)\n",
        "        self.bn2 = nn.BatchNorm1d(128)\n",
        "        self.bn3 = nn.BatchNorm1d(1024)\n",
        "       \n",
        "   def forward(self, input):\n",
        "        matrix3x3 = self.input_transform(input)\n",
        "        # batch matrix multiplication\n",
        "        xb = torch.bmm(torch.transpose(input,1,2), matrix3x3).transpose(1,2)\n",
        "\n",
        "        xb = F.relu(self.bn1(self.conv1(xb)))\n",
        "\n",
        "        matrix64x64 = self.feature_transform(xb)\n",
        "        xb = torch.bmm(torch.transpose(xb,1,2), matrix64x64).transpose(1,2)\n",
        "\n",
        "        xb = F.relu(self.bn2(self.conv2(xb)))\n",
        "        xb = self.bn3(self.conv3(xb))\n",
        "        xb = nn.MaxPool1d(xb.size(-1))(xb)\n",
        "        output = nn.Flatten(1)(xb)\n",
        "        return output, matrix3x3, matrix64x64\n",
        "\n",
        "class PointNet(nn.Module):\n",
        "    def __init__(self, classes = 10):\n",
        "        super().__init__()\n",
        "        self.transform = Transform()\n",
        "        self.fc1 = nn.Linear(1024, 512)\n",
        "        self.fc2 = nn.Linear(512, 256)\n",
        "        self.fc3 = nn.Linear(256, classes)\n",
        "        \n",
        "\n",
        "        self.bn1 = nn.BatchNorm1d(512)\n",
        "        self.bn2 = nn.BatchNorm1d(256)\n",
        "        self.dropout = nn.Dropout(p=0.3)\n",
        "        self.logsoftmax = nn.LogSoftmax(dim=1)\n",
        "\n",
        "    def forward(self, input):\n",
        "        xb, matrix3x3, matrix64x64 = self.transform(input)\n",
        "        xb = F.relu(self.bn1(self.fc1(xb)))\n",
        "        xb = F.relu(self.bn2(self.dropout(self.fc2(xb))))\n",
        "        output = self.fc3(xb)\n",
        "        return self.logsoftmax(output), matrix3x3, matrix64x64"
      ],
      "metadata": {
        "id": "bamto-NiUdP0"
      },
      "execution_count": 8,
      "outputs": []
    },
    {
      "cell_type": "code",
      "source": [
        "def pointnetloss(outputs, labels, m3x3, m64x64, alpha = 0.0001):\n",
        "    criterion = torch.nn.NLLLoss()\n",
        "    bs=outputs.size(0)\n",
        "    id3x3 = torch.eye(3, requires_grad=True).repeat(bs,1,1)\n",
        "    id64x64 = torch.eye(64, requires_grad=True).repeat(bs,1,1)\n",
        "    if outputs.is_cuda:\n",
        "        id3x3=id3x3.cuda()\n",
        "        id64x64=id64x64.cuda()\n",
        "    diff3x3 = id3x3-torch.bmm(m3x3,m3x3.transpose(1,2))\n",
        "    diff64x64 = id64x64-torch.bmm(m64x64,m64x64.transpose(1,2))\n",
        "    #print(outputs.device, labels.device)\n",
        "    return criterion(outputs, labels.type(torch.LongTensor).to(device)) + alpha * (torch.norm(diff3x3)+torch.norm(diff64x64)) / float(bs)"
      ],
      "metadata": {
        "id": "pPGTGLBnVTZ_"
      },
      "execution_count": 9,
      "outputs": []
    },
    {
      "cell_type": "markdown",
      "source": [
        "###Training"
      ],
      "metadata": {
        "id": "nmkLMMubVUxs"
      }
    },
    {
      "cell_type": "code",
      "source": [
        "device = torch.device(\"cuda:0\" if torch.cuda.is_available() else \"cpu\")\n",
        "print(device)"
      ],
      "metadata": {
        "colab": {
          "base_uri": "https://localhost:8080/"
        },
        "id": "ysAEk9NXVWnR",
        "outputId": "2a4e29f7-d61e-46b0-a47c-e3e40957d3d8"
      },
      "execution_count": 10,
      "outputs": [
        {
          "output_type": "stream",
          "name": "stdout",
          "text": [
            "cuda:0\n"
          ]
        }
      ]
    },
    {
      "cell_type": "code",
      "source": [
        "pointnet = PointNet()\n",
        "pointnet.to(device);"
      ],
      "metadata": {
        "id": "GEJ0BtwpVd8G"
      },
      "execution_count": 11,
      "outputs": []
    },
    {
      "cell_type": "code",
      "source": [
        "optimizer = torch.optim.Adam(pointnet.parameters(), lr=0.001)"
      ],
      "metadata": {
        "id": "bagO2E06WJFX"
      },
      "execution_count": 12,
      "outputs": []
    },
    {
      "cell_type": "code",
      "source": [
        "len(train_dataset)"
      ],
      "metadata": {
        "colab": {
          "base_uri": "https://localhost:8080/"
        },
        "id": "G1u7Cubez7-K",
        "outputId": "91d2e3e2-f406-4e5b-d682-a930d95d3079"
      },
      "execution_count": 13,
      "outputs": [
        {
          "output_type": "execute_result",
          "data": {
            "text/plain": [
              "228"
            ]
          },
          "metadata": {},
          "execution_count": 13
        }
      ]
    },
    {
      "cell_type": "code",
      "source": [
        "def train(model, train_loader, val_loader=None,  epochs=15, save=True):\n",
        "    for epoch in range(epochs): \n",
        "        pointnet.train()\n",
        "        running_loss = 0.0\n",
        "        for i, data in enumerate(train_loader, 0):\n",
        "            inputs = data[0]\n",
        "            labels = data[1]\n",
        "            #print(type(inputs), type(labels))\n",
        "            inputs = inputs.float()\n",
        "            labels = labels\n",
        "            inputs, labels = inputs.to(device), labels.to(device)\n",
        "            optimizer.zero_grad()\n",
        "            outputs, m3x3, m64x64 = pointnet(inputs.transpose(1,2))\n",
        "\n",
        "            loss = pointnetloss(outputs, labels, m3x3, m64x64)\n",
        "            loss.backward()\n",
        "            optimizer.step()\n",
        "\n",
        "            # print statistics\n",
        "            running_loss = loss.item()\n",
        "            print('[Epoch: %d, Batch: %4d / %4d], loss: %.3f' %\n",
        "                        (epoch + 1, i + 1, len(train_loader), running_loss / 10))\n",
        "\n",
        "        pointnet.eval()\n",
        "        correct = total = 0\n",
        "\n",
        "        # validation\n",
        "        if val_loader:\n",
        "            with torch.no_grad():\n",
        "                for data in val_loader:\n",
        "                    inputs, labels = data[0].to(device).float(), data[1].to(device)\n",
        "                    \n",
        "                    outputs, m3x3, m64x64 = pointnet(inputs.transpose(1,2))\n",
        "                    val_loss = pointnetloss(outputs, labels, m3x3, m64x64)\n",
        "\n",
        "                    running_loss = val_loss.item()\n",
        "                    \n",
        "                    print('[Epoch: %d, Batch: %4d / %4d], val_loss: %.3f' %\n",
        "                        (epoch + 1, i + 1, len(train_loader), running_loss / 10))\n",
        "\n",
        "                    _, predicted = torch.max(outputs.data, 1)\n",
        "                    total += labels.size(0)\n",
        "                    correct += (predicted == labels).sum().item()\n",
        "            val_acc = 100. * correct / total\n",
        "            print('Valid accuracy: %d %%' % val_acc)\n",
        "\n",
        "        # save the model\n",
        "        if save:\n",
        "            torch.save(pointnet.state_dict(), \"save_\"+str(epoch)+\".pth\")"
      ],
      "metadata": {
        "id": "8PC_i-CaWMTQ"
      },
      "execution_count": 16,
      "outputs": []
    },
    {
      "cell_type": "code",
      "source": [
        "train(pointnet, train_dataloader, val_dataloader,  save=False)"
      ],
      "metadata": {
        "colab": {
          "base_uri": "https://localhost:8080/"
        },
        "id": "xKEUIt7pWP_6",
        "outputId": "f78c6d37-b43b-4d6e-ffd4-29eb2c685281"
      },
      "execution_count": 17,
      "outputs": [
        {
          "output_type": "stream",
          "name": "stdout",
          "text": [
            "[Epoch: 1, Batch:    1 /   15], loss: 0.053\n",
            "[Epoch: 1, Batch:    2 /   15], loss: 0.081\n",
            "[Epoch: 1, Batch:    3 /   15], loss: 0.061\n",
            "[Epoch: 1, Batch:    4 /   15], loss: 0.035\n",
            "[Epoch: 1, Batch:    5 /   15], loss: 0.060\n",
            "[Epoch: 1, Batch:    6 /   15], loss: 0.067\n",
            "[Epoch: 1, Batch:    7 /   15], loss: 0.063\n",
            "[Epoch: 1, Batch:    8 /   15], loss: 0.062\n",
            "[Epoch: 1, Batch:    9 /   15], loss: 0.042\n",
            "[Epoch: 1, Batch:   10 /   15], loss: 0.050\n",
            "[Epoch: 1, Batch:   11 /   15], loss: 0.065\n",
            "[Epoch: 1, Batch:   12 /   15], loss: 0.076\n",
            "[Epoch: 1, Batch:   13 /   15], loss: 0.042\n",
            "[Epoch: 1, Batch:   14 /   15], loss: 0.062\n",
            "[Epoch: 1, Batch:   15 /   15], loss: 0.030\n",
            "[Epoch: 1, Batch:   15 /   15], val_loss: 0.072\n",
            "[Epoch: 1, Batch:   15 /   15], val_loss: 0.068\n",
            "[Epoch: 1, Batch:   15 /   15], val_loss: 0.054\n",
            "[Epoch: 1, Batch:   15 /   15], val_loss: 0.053\n",
            "Valid accuracy: 75 %\n",
            "[Epoch: 2, Batch:    1 /   15], loss: 0.057\n",
            "[Epoch: 2, Batch:    2 /   15], loss: 0.051\n",
            "[Epoch: 2, Batch:    3 /   15], loss: 0.046\n",
            "[Epoch: 2, Batch:    4 /   15], loss: 0.060\n",
            "[Epoch: 2, Batch:    5 /   15], loss: 0.051\n",
            "[Epoch: 2, Batch:    6 /   15], loss: 0.053\n",
            "[Epoch: 2, Batch:    7 /   15], loss: 0.072\n",
            "[Epoch: 2, Batch:    8 /   15], loss: 0.048\n",
            "[Epoch: 2, Batch:    9 /   15], loss: 0.061\n",
            "[Epoch: 2, Batch:   10 /   15], loss: 0.071\n",
            "[Epoch: 2, Batch:   11 /   15], loss: 0.032\n",
            "[Epoch: 2, Batch:   12 /   15], loss: 0.052\n",
            "[Epoch: 2, Batch:   13 /   15], loss: 0.059\n",
            "[Epoch: 2, Batch:   14 /   15], loss: 0.073\n",
            "[Epoch: 2, Batch:   15 /   15], loss: 0.060\n",
            "[Epoch: 2, Batch:   15 /   15], val_loss: 0.068\n",
            "[Epoch: 2, Batch:   15 /   15], val_loss: 0.077\n",
            "[Epoch: 2, Batch:   15 /   15], val_loss: 0.058\n",
            "[Epoch: 2, Batch:   15 /   15], val_loss: 0.052\n",
            "Valid accuracy: 75 %\n",
            "[Epoch: 3, Batch:    1 /   15], loss: 0.055\n",
            "[Epoch: 3, Batch:    2 /   15], loss: 0.073\n",
            "[Epoch: 3, Batch:    3 /   15], loss: 0.053\n",
            "[Epoch: 3, Batch:    4 /   15], loss: 0.039\n",
            "[Epoch: 3, Batch:    5 /   15], loss: 0.053\n",
            "[Epoch: 3, Batch:    6 /   15], loss: 0.040\n",
            "[Epoch: 3, Batch:    7 /   15], loss: 0.057\n",
            "[Epoch: 3, Batch:    8 /   15], loss: 0.093\n",
            "[Epoch: 3, Batch:    9 /   15], loss: 0.045\n",
            "[Epoch: 3, Batch:   10 /   15], loss: 0.069\n",
            "[Epoch: 3, Batch:   11 /   15], loss: 0.039\n",
            "[Epoch: 3, Batch:   12 /   15], loss: 0.054\n",
            "[Epoch: 3, Batch:   13 /   15], loss: 0.046\n",
            "[Epoch: 3, Batch:   14 /   15], loss: 0.064\n",
            "[Epoch: 3, Batch:   15 /   15], loss: 0.024\n",
            "[Epoch: 3, Batch:   15 /   15], val_loss: 0.070\n",
            "[Epoch: 3, Batch:   15 /   15], val_loss: 0.074\n",
            "[Epoch: 3, Batch:   15 /   15], val_loss: 0.061\n",
            "[Epoch: 3, Batch:   15 /   15], val_loss: 0.061\n",
            "Valid accuracy: 75 %\n",
            "[Epoch: 4, Batch:    1 /   15], loss: 0.055\n",
            "[Epoch: 4, Batch:    2 /   15], loss: 0.068\n",
            "[Epoch: 4, Batch:    3 /   15], loss: 0.056\n",
            "[Epoch: 4, Batch:    4 /   15], loss: 0.045\n",
            "[Epoch: 4, Batch:    5 /   15], loss: 0.066\n",
            "[Epoch: 4, Batch:    6 /   15], loss: 0.065\n",
            "[Epoch: 4, Batch:    7 /   15], loss: 0.047\n",
            "[Epoch: 4, Batch:    8 /   15], loss: 0.046\n",
            "[Epoch: 4, Batch:    9 /   15], loss: 0.057\n",
            "[Epoch: 4, Batch:   10 /   15], loss: 0.063\n",
            "[Epoch: 4, Batch:   11 /   15], loss: 0.055\n",
            "[Epoch: 4, Batch:   12 /   15], loss: 0.047\n",
            "[Epoch: 4, Batch:   13 /   15], loss: 0.059\n",
            "[Epoch: 4, Batch:   14 /   15], loss: 0.037\n",
            "[Epoch: 4, Batch:   15 /   15], loss: 0.092\n",
            "[Epoch: 4, Batch:   15 /   15], val_loss: 0.071\n",
            "[Epoch: 4, Batch:   15 /   15], val_loss: 0.081\n",
            "[Epoch: 4, Batch:   15 /   15], val_loss: 0.081\n",
            "[Epoch: 4, Batch:   15 /   15], val_loss: 0.074\n",
            "Valid accuracy: 44 %\n",
            "[Epoch: 5, Batch:    1 /   15], loss: 0.065\n",
            "[Epoch: 5, Batch:    2 /   15], loss: 0.065\n",
            "[Epoch: 5, Batch:    3 /   15], loss: 0.060\n",
            "[Epoch: 5, Batch:    4 /   15], loss: 0.062\n",
            "[Epoch: 5, Batch:    5 /   15], loss: 0.036\n",
            "[Epoch: 5, Batch:    6 /   15], loss: 0.072\n",
            "[Epoch: 5, Batch:    7 /   15], loss: 0.039\n",
            "[Epoch: 5, Batch:    8 /   15], loss: 0.048\n",
            "[Epoch: 5, Batch:    9 /   15], loss: 0.057\n",
            "[Epoch: 5, Batch:   10 /   15], loss: 0.081\n",
            "[Epoch: 5, Batch:   11 /   15], loss: 0.045\n",
            "[Epoch: 5, Batch:   12 /   15], loss: 0.061\n",
            "[Epoch: 5, Batch:   13 /   15], loss: 0.036\n",
            "[Epoch: 5, Batch:   14 /   15], loss: 0.046\n",
            "[Epoch: 5, Batch:   15 /   15], loss: 0.092\n",
            "[Epoch: 5, Batch:   15 /   15], val_loss: 0.104\n",
            "[Epoch: 5, Batch:   15 /   15], val_loss: 0.109\n",
            "[Epoch: 5, Batch:   15 /   15], val_loss: 0.097\n",
            "[Epoch: 5, Batch:   15 /   15], val_loss: 0.094\n",
            "Valid accuracy: 41 %\n",
            "[Epoch: 6, Batch:    1 /   15], loss: 0.072\n",
            "[Epoch: 6, Batch:    2 /   15], loss: 0.059\n",
            "[Epoch: 6, Batch:    3 /   15], loss: 0.068\n",
            "[Epoch: 6, Batch:    4 /   15], loss: 0.060\n",
            "[Epoch: 6, Batch:    5 /   15], loss: 0.042\n",
            "[Epoch: 6, Batch:    6 /   15], loss: 0.053\n",
            "[Epoch: 6, Batch:    7 /   15], loss: 0.039\n",
            "[Epoch: 6, Batch:    8 /   15], loss: 0.041\n",
            "[Epoch: 6, Batch:    9 /   15], loss: 0.051\n",
            "[Epoch: 6, Batch:   10 /   15], loss: 0.047\n",
            "[Epoch: 6, Batch:   11 /   15], loss: 0.094\n",
            "[Epoch: 6, Batch:   12 /   15], loss: 0.060\n",
            "[Epoch: 6, Batch:   13 /   15], loss: 0.065\n",
            "[Epoch: 6, Batch:   14 /   15], loss: 0.057\n",
            "[Epoch: 6, Batch:   15 /   15], loss: 0.028\n",
            "[Epoch: 6, Batch:   15 /   15], val_loss: 0.081\n",
            "[Epoch: 6, Batch:   15 /   15], val_loss: 0.089\n",
            "[Epoch: 6, Batch:   15 /   15], val_loss: 0.057\n",
            "[Epoch: 6, Batch:   15 /   15], val_loss: 0.069\n",
            "Valid accuracy: 75 %\n",
            "[Epoch: 7, Batch:    1 /   15], loss: 0.049\n",
            "[Epoch: 7, Batch:    2 /   15], loss: 0.053\n",
            "[Epoch: 7, Batch:    3 /   15], loss: 0.103\n",
            "[Epoch: 7, Batch:    4 /   15], loss: 0.069\n",
            "[Epoch: 7, Batch:    5 /   15], loss: 0.045\n",
            "[Epoch: 7, Batch:    6 /   15], loss: 0.041\n",
            "[Epoch: 7, Batch:    7 /   15], loss: 0.076\n",
            "[Epoch: 7, Batch:    8 /   15], loss: 0.051\n",
            "[Epoch: 7, Batch:    9 /   15], loss: 0.026\n",
            "[Epoch: 7, Batch:   10 /   15], loss: 0.044\n",
            "[Epoch: 7, Batch:   11 /   15], loss: 0.053\n",
            "[Epoch: 7, Batch:   12 /   15], loss: 0.064\n",
            "[Epoch: 7, Batch:   13 /   15], loss: 0.058\n",
            "[Epoch: 7, Batch:   14 /   15], loss: 0.069\n",
            "[Epoch: 7, Batch:   15 /   15], loss: 0.047\n",
            "[Epoch: 7, Batch:   15 /   15], val_loss: 0.072\n",
            "[Epoch: 7, Batch:   15 /   15], val_loss: 0.077\n",
            "[Epoch: 7, Batch:   15 /   15], val_loss: 0.054\n",
            "[Epoch: 7, Batch:   15 /   15], val_loss: 0.159\n",
            "Valid accuracy: 75 %\n",
            "[Epoch: 8, Batch:    1 /   15], loss: 0.032\n",
            "[Epoch: 8, Batch:    2 /   15], loss: 0.061\n",
            "[Epoch: 8, Batch:    3 /   15], loss: 0.076\n",
            "[Epoch: 8, Batch:    4 /   15], loss: 0.089\n",
            "[Epoch: 8, Batch:    5 /   15], loss: 0.039\n",
            "[Epoch: 8, Batch:    6 /   15], loss: 0.052\n",
            "[Epoch: 8, Batch:    7 /   15], loss: 0.044\n",
            "[Epoch: 8, Batch:    8 /   15], loss: 0.055\n",
            "[Epoch: 8, Batch:    9 /   15], loss: 0.062\n",
            "[Epoch: 8, Batch:   10 /   15], loss: 0.048\n",
            "[Epoch: 8, Batch:   11 /   15], loss: 0.052\n",
            "[Epoch: 8, Batch:   12 /   15], loss: 0.061\n",
            "[Epoch: 8, Batch:   13 /   15], loss: 0.089\n",
            "[Epoch: 8, Batch:   14 /   15], loss: 0.059\n",
            "[Epoch: 8, Batch:   15 /   15], loss: 0.094\n",
            "[Epoch: 8, Batch:   15 /   15], val_loss: 0.069\n",
            "[Epoch: 8, Batch:   15 /   15], val_loss: 0.084\n",
            "[Epoch: 8, Batch:   15 /   15], val_loss: 0.050\n",
            "[Epoch: 8, Batch:   15 /   15], val_loss: 0.122\n",
            "Valid accuracy: 75 %\n",
            "[Epoch: 9, Batch:    1 /   15], loss: 0.059\n",
            "[Epoch: 9, Batch:    2 /   15], loss: 0.041\n",
            "[Epoch: 9, Batch:    3 /   15], loss: 0.056\n",
            "[Epoch: 9, Batch:    4 /   15], loss: 0.051\n",
            "[Epoch: 9, Batch:    5 /   15], loss: 0.070\n",
            "[Epoch: 9, Batch:    6 /   15], loss: 0.052\n",
            "[Epoch: 9, Batch:    7 /   15], loss: 0.053\n",
            "[Epoch: 9, Batch:    8 /   15], loss: 0.067\n",
            "[Epoch: 9, Batch:    9 /   15], loss: 0.057\n",
            "[Epoch: 9, Batch:   10 /   15], loss: 0.061\n",
            "[Epoch: 9, Batch:   11 /   15], loss: 0.058\n",
            "[Epoch: 9, Batch:   12 /   15], loss: 0.067\n",
            "[Epoch: 9, Batch:   13 /   15], loss: 0.051\n",
            "[Epoch: 9, Batch:   14 /   15], loss: 0.036\n",
            "[Epoch: 9, Batch:   15 /   15], loss: 0.142\n",
            "[Epoch: 9, Batch:   15 /   15], val_loss: 0.071\n",
            "[Epoch: 9, Batch:   15 /   15], val_loss: 0.069\n",
            "[Epoch: 9, Batch:   15 /   15], val_loss: 0.067\n",
            "[Epoch: 9, Batch:   15 /   15], val_loss: 0.100\n",
            "Valid accuracy: 75 %\n",
            "[Epoch: 10, Batch:    1 /   15], loss: 0.065\n",
            "[Epoch: 10, Batch:    2 /   15], loss: 0.054\n",
            "[Epoch: 10, Batch:    3 /   15], loss: 0.061\n",
            "[Epoch: 10, Batch:    4 /   15], loss: 0.052\n",
            "[Epoch: 10, Batch:    5 /   15], loss: 0.050\n",
            "[Epoch: 10, Batch:    6 /   15], loss: 0.051\n",
            "[Epoch: 10, Batch:    7 /   15], loss: 0.060\n",
            "[Epoch: 10, Batch:    8 /   15], loss: 0.074\n",
            "[Epoch: 10, Batch:    9 /   15], loss: 0.077\n",
            "[Epoch: 10, Batch:   10 /   15], loss: 0.053\n",
            "[Epoch: 10, Batch:   11 /   15], loss: 0.051\n",
            "[Epoch: 10, Batch:   12 /   15], loss: 0.049\n",
            "[Epoch: 10, Batch:   13 /   15], loss: 0.046\n",
            "[Epoch: 10, Batch:   14 /   15], loss: 0.047\n",
            "[Epoch: 10, Batch:   15 /   15], loss: 0.050\n",
            "[Epoch: 10, Batch:   15 /   15], val_loss: 0.074\n",
            "[Epoch: 10, Batch:   15 /   15], val_loss: 0.071\n",
            "[Epoch: 10, Batch:   15 /   15], val_loss: 0.065\n",
            "[Epoch: 10, Batch:   15 /   15], val_loss: 0.066\n",
            "Valid accuracy: 75 %\n",
            "[Epoch: 11, Batch:    1 /   15], loss: 0.072\n",
            "[Epoch: 11, Batch:    2 /   15], loss: 0.048\n",
            "[Epoch: 11, Batch:    3 /   15], loss: 0.069\n",
            "[Epoch: 11, Batch:    4 /   15], loss: 0.043\n",
            "[Epoch: 11, Batch:    5 /   15], loss: 0.060\n",
            "[Epoch: 11, Batch:    6 /   15], loss: 0.048\n",
            "[Epoch: 11, Batch:    7 /   15], loss: 0.057\n",
            "[Epoch: 11, Batch:    8 /   15], loss: 0.045\n",
            "[Epoch: 11, Batch:    9 /   15], loss: 0.053\n",
            "[Epoch: 11, Batch:   10 /   15], loss: 0.034\n",
            "[Epoch: 11, Batch:   11 /   15], loss: 0.054\n",
            "[Epoch: 11, Batch:   12 /   15], loss: 0.050\n",
            "[Epoch: 11, Batch:   13 /   15], loss: 0.095\n",
            "[Epoch: 11, Batch:   14 /   15], loss: 0.045\n",
            "[Epoch: 11, Batch:   15 /   15], loss: 0.090\n",
            "[Epoch: 11, Batch:   15 /   15], val_loss: 0.061\n",
            "[Epoch: 11, Batch:   15 /   15], val_loss: 0.064\n",
            "[Epoch: 11, Batch:   15 /   15], val_loss: 0.053\n",
            "[Epoch: 11, Batch:   15 /   15], val_loss: 0.042\n",
            "Valid accuracy: 75 %\n",
            "[Epoch: 12, Batch:    1 /   15], loss: 0.033\n",
            "[Epoch: 12, Batch:    2 /   15], loss: 0.044\n",
            "[Epoch: 12, Batch:    3 /   15], loss: 0.051\n",
            "[Epoch: 12, Batch:    4 /   15], loss: 0.047\n",
            "[Epoch: 12, Batch:    5 /   15], loss: 0.053\n",
            "[Epoch: 12, Batch:    6 /   15], loss: 0.049\n",
            "[Epoch: 12, Batch:    7 /   15], loss: 0.065\n",
            "[Epoch: 12, Batch:    8 /   15], loss: 0.070\n",
            "[Epoch: 12, Batch:    9 /   15], loss: 0.035\n",
            "[Epoch: 12, Batch:   10 /   15], loss: 0.074\n",
            "[Epoch: 12, Batch:   11 /   15], loss: 0.056\n",
            "[Epoch: 12, Batch:   12 /   15], loss: 0.075\n",
            "[Epoch: 12, Batch:   13 /   15], loss: 0.062\n",
            "[Epoch: 12, Batch:   14 /   15], loss: 0.058\n",
            "[Epoch: 12, Batch:   15 /   15], loss: 0.029\n",
            "[Epoch: 12, Batch:   15 /   15], val_loss: 0.066\n",
            "[Epoch: 12, Batch:   15 /   15], val_loss: 0.070\n",
            "[Epoch: 12, Batch:   15 /   15], val_loss: 0.050\n",
            "[Epoch: 12, Batch:   15 /   15], val_loss: 0.044\n",
            "Valid accuracy: 75 %\n",
            "[Epoch: 13, Batch:    1 /   15], loss: 0.048\n",
            "[Epoch: 13, Batch:    2 /   15], loss: 0.074\n",
            "[Epoch: 13, Batch:    3 /   15], loss: 0.069\n",
            "[Epoch: 13, Batch:    4 /   15], loss: 0.052\n",
            "[Epoch: 13, Batch:    5 /   15], loss: 0.046\n",
            "[Epoch: 13, Batch:    6 /   15], loss: 0.036\n",
            "[Epoch: 13, Batch:    7 /   15], loss: 0.081\n",
            "[Epoch: 13, Batch:    8 /   15], loss: 0.051\n",
            "[Epoch: 13, Batch:    9 /   15], loss: 0.049\n",
            "[Epoch: 13, Batch:   10 /   15], loss: 0.041\n",
            "[Epoch: 13, Batch:   11 /   15], loss: 0.052\n",
            "[Epoch: 13, Batch:   12 /   15], loss: 0.079\n",
            "[Epoch: 13, Batch:   13 /   15], loss: 0.080\n",
            "[Epoch: 13, Batch:   14 /   15], loss: 0.057\n",
            "[Epoch: 13, Batch:   15 /   15], loss: 0.063\n",
            "[Epoch: 13, Batch:   15 /   15], val_loss: 0.069\n",
            "[Epoch: 13, Batch:   15 /   15], val_loss: 0.071\n",
            "[Epoch: 13, Batch:   15 /   15], val_loss: 0.058\n",
            "[Epoch: 13, Batch:   15 /   15], val_loss: 0.034\n",
            "Valid accuracy: 75 %\n",
            "[Epoch: 14, Batch:    1 /   15], loss: 0.055\n",
            "[Epoch: 14, Batch:    2 /   15], loss: 0.053\n",
            "[Epoch: 14, Batch:    3 /   15], loss: 0.058\n",
            "[Epoch: 14, Batch:    4 /   15], loss: 0.079\n",
            "[Epoch: 14, Batch:    5 /   15], loss: 0.040\n",
            "[Epoch: 14, Batch:    6 /   15], loss: 0.054\n",
            "[Epoch: 14, Batch:    7 /   15], loss: 0.046\n",
            "[Epoch: 14, Batch:    8 /   15], loss: 0.056\n",
            "[Epoch: 14, Batch:    9 /   15], loss: 0.037\n",
            "[Epoch: 14, Batch:   10 /   15], loss: 0.072\n",
            "[Epoch: 14, Batch:   11 /   15], loss: 0.053\n",
            "[Epoch: 14, Batch:   12 /   15], loss: 0.047\n",
            "[Epoch: 14, Batch:   13 /   15], loss: 0.048\n",
            "[Epoch: 14, Batch:   14 /   15], loss: 0.065\n",
            "[Epoch: 14, Batch:   15 /   15], loss: 0.136\n",
            "[Epoch: 14, Batch:   15 /   15], val_loss: 0.065\n",
            "[Epoch: 14, Batch:   15 /   15], val_loss: 0.064\n",
            "[Epoch: 14, Batch:   15 /   15], val_loss: 0.059\n",
            "[Epoch: 14, Batch:   15 /   15], val_loss: 0.058\n",
            "Valid accuracy: 75 %\n",
            "[Epoch: 15, Batch:    1 /   15], loss: 0.042\n",
            "[Epoch: 15, Batch:    2 /   15], loss: 0.057\n",
            "[Epoch: 15, Batch:    3 /   15], loss: 0.064\n",
            "[Epoch: 15, Batch:    4 /   15], loss: 0.050\n",
            "[Epoch: 15, Batch:    5 /   15], loss: 0.061\n",
            "[Epoch: 15, Batch:    6 /   15], loss: 0.052\n",
            "[Epoch: 15, Batch:    7 /   15], loss: 0.052\n",
            "[Epoch: 15, Batch:    8 /   15], loss: 0.062\n",
            "[Epoch: 15, Batch:    9 /   15], loss: 0.054\n",
            "[Epoch: 15, Batch:   10 /   15], loss: 0.047\n",
            "[Epoch: 15, Batch:   11 /   15], loss: 0.062\n",
            "[Epoch: 15, Batch:   12 /   15], loss: 0.058\n",
            "[Epoch: 15, Batch:   13 /   15], loss: 0.049\n",
            "[Epoch: 15, Batch:   14 /   15], loss: 0.059\n",
            "[Epoch: 15, Batch:   15 /   15], loss: 0.059\n",
            "[Epoch: 15, Batch:   15 /   15], val_loss: 0.069\n",
            "[Epoch: 15, Batch:   15 /   15], val_loss: 0.069\n",
            "[Epoch: 15, Batch:   15 /   15], val_loss: 0.067\n",
            "[Epoch: 15, Batch:   15 /   15], val_loss: 0.066\n",
            "Valid accuracy: 75 %\n"
          ]
        }
      ]
    },
    {
      "cell_type": "code",
      "source": [
        "#for visualization of point cloud data\n",
        "def visualize_rotate(data):\n",
        "    x_eye, y_eye, z_eye = 1.25, 1.25, 0.8\n",
        "    frames=[]\n",
        "\n",
        "    def rotate_z(x, y, z, theta):\n",
        "        w = x+1j*y\n",
        "        return np.real(np.exp(1j*theta)*w), np.imag(np.exp(1j*theta)*w), z\n",
        "\n",
        "    for t in np.arange(0, 10.26, 0.1):\n",
        "        xe, ye, ze = rotate_z(x_eye, y_eye, z_eye, -t)\n",
        "        frames.append(dict(layout=dict(scene=dict(camera=dict(eye=dict(x=xe, y=ye, z=ze))))))\n",
        "    fig = go.Figure(data=data,\n",
        "                    layout=go.Layout(\n",
        "                        updatemenus=[dict(type='buttons',\n",
        "                                    showactive=False,\n",
        "                                    y=1,\n",
        "                                    x=0.8,\n",
        "                                    xanchor='left',\n",
        "                                    yanchor='bottom',\n",
        "                                    pad=dict(t=45, r=10),\n",
        "                                    buttons=[dict(label='Play',\n",
        "                                                    method='animate',\n",
        "                                                    args=[None, dict(frame=dict(duration=50, redraw=True),\n",
        "                                                                    transition=dict(duration=0),\n",
        "                                                                    fromcurrent=True,\n",
        "                                                                    mode='immediate'\n",
        "                                                                    )]\n",
        "                                                    )\n",
        "                                            ]\n",
        "                                    )\n",
        "                                ]\n",
        "                    ),\n",
        "                    frames=frames\n",
        "            )\n",
        "\n",
        "    return fig"
      ],
      "metadata": {
        "id": "1nqOIddhp902"
      },
      "execution_count": null,
      "outputs": []
    },
    {
      "cell_type": "code",
      "source": [
        "x = features[:,1]\n",
        "z = features[:,2]\n",
        "ptp = features[:,3]\n",
        "visualize_rotate([go.Mesh3d(x=x, y=ptp, z=z, color='lightpink', opacity=0.50)]).show()"
      ],
      "metadata": {
        "id": "hdGoEQCIsYSN"
      },
      "execution_count": null,
      "outputs": []
    },
    {
      "cell_type": "code",
      "source": [],
      "metadata": {
        "id": "G2Mng5ZivAXZ"
      },
      "execution_count": null,
      "outputs": []
    }
  ]
}