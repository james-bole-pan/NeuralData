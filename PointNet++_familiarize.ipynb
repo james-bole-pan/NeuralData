{
  "nbformat": 4,
  "nbformat_minor": 0,
  "metadata": {
    "colab": {
      "provenance": [],
      "include_colab_link": true
    },
    "kernelspec": {
      "name": "python3",
      "display_name": "Python 3"
    },
    "language_info": {
      "name": "python"
    },
    "accelerator": "GPU",
    "gpuClass": "standard"
  },
  "cells": [
    {
      "cell_type": "markdown",
      "metadata": {
        "id": "view-in-github",
        "colab_type": "text"
      },
      "source": [
        "<a href=\"https://colab.research.google.com/github/jamespan1118/NeuralData/blob/main/PointNet%2B%2B_familiarize.ipynb\" target=\"_parent\"><img src=\"https://colab.research.google.com/assets/colab-badge.svg\" alt=\"Open In Colab\"/></a>"
      ]
    },
    {
      "cell_type": "code",
      "source": [
        "from google.colab import drive\n",
        "drive.mount('/content/drive')"
      ],
      "metadata": {
        "id": "LH2sc_jRDdd-",
        "colab": {
          "base_uri": "https://localhost:8080/"
        },
        "outputId": "b179f370-bcf0-43ba-dd94-e75fb38e3300"
      },
      "execution_count": 1,
      "outputs": [
        {
          "output_type": "stream",
          "name": "stdout",
          "text": [
            "Mounted at /content/drive\n"
          ]
        }
      ]
    },
    {
      "cell_type": "code",
      "source": [
        "! pip install tensorboard --upgrade"
      ],
      "metadata": {
        "colab": {
          "base_uri": "https://localhost:8080/"
        },
        "id": "ftWBwRvPLh53",
        "outputId": "310d7a42-a0e9-4938-f83a-f3d7a172ffec"
      },
      "execution_count": 2,
      "outputs": [
        {
          "output_type": "stream",
          "name": "stdout",
          "text": [
            "Looking in indexes: https://pypi.org/simple, https://us-python.pkg.dev/colab-wheels/public/simple/\n",
            "Requirement already satisfied: tensorboard in /usr/local/lib/python3.7/dist-packages (2.9.1)\n",
            "Collecting tensorboard\n",
            "  Downloading tensorboard-2.11.0-py3-none-any.whl (6.0 MB)\n",
            "\u001b[K     |████████████████████████████████| 6.0 MB 5.2 MB/s \n",
            "\u001b[?25hRequirement already satisfied: google-auth<3,>=1.6.3 in /usr/local/lib/python3.7/dist-packages (from tensorboard) (2.14.1)\n",
            "Requirement already satisfied: setuptools>=41.0.0 in /usr/local/lib/python3.7/dist-packages (from tensorboard) (57.4.0)\n",
            "Requirement already satisfied: protobuf<4,>=3.9.2 in /usr/local/lib/python3.7/dist-packages (from tensorboard) (3.19.6)\n",
            "Requirement already satisfied: tensorboard-data-server<0.7.0,>=0.6.0 in /usr/local/lib/python3.7/dist-packages (from tensorboard) (0.6.1)\n",
            "Requirement already satisfied: google-auth-oauthlib<0.5,>=0.4.1 in /usr/local/lib/python3.7/dist-packages (from tensorboard) (0.4.6)\n",
            "Requirement already satisfied: wheel>=0.26 in /usr/local/lib/python3.7/dist-packages (from tensorboard) (0.38.4)\n",
            "Requirement already satisfied: absl-py>=0.4 in /usr/local/lib/python3.7/dist-packages (from tensorboard) (1.3.0)\n",
            "Requirement already satisfied: tensorboard-plugin-wit>=1.6.0 in /usr/local/lib/python3.7/dist-packages (from tensorboard) (1.8.1)\n",
            "Requirement already satisfied: werkzeug>=1.0.1 in /usr/local/lib/python3.7/dist-packages (from tensorboard) (1.0.1)\n",
            "Requirement already satisfied: grpcio>=1.24.3 in /usr/local/lib/python3.7/dist-packages (from tensorboard) (1.50.0)\n",
            "Requirement already satisfied: markdown>=2.6.8 in /usr/local/lib/python3.7/dist-packages (from tensorboard) (3.4.1)\n",
            "Requirement already satisfied: numpy>=1.12.0 in /usr/local/lib/python3.7/dist-packages (from tensorboard) (1.21.6)\n",
            "Requirement already satisfied: requests<3,>=2.21.0 in /usr/local/lib/python3.7/dist-packages (from tensorboard) (2.23.0)\n",
            "Requirement already satisfied: cachetools<6.0,>=2.0.0 in /usr/local/lib/python3.7/dist-packages (from google-auth<3,>=1.6.3->tensorboard) (5.2.0)\n",
            "Requirement already satisfied: pyasn1-modules>=0.2.1 in /usr/local/lib/python3.7/dist-packages (from google-auth<3,>=1.6.3->tensorboard) (0.2.8)\n",
            "Requirement already satisfied: rsa<5,>=3.1.4 in /usr/local/lib/python3.7/dist-packages (from google-auth<3,>=1.6.3->tensorboard) (4.9)\n",
            "Requirement already satisfied: six>=1.9.0 in /usr/local/lib/python3.7/dist-packages (from google-auth<3,>=1.6.3->tensorboard) (1.15.0)\n",
            "Requirement already satisfied: requests-oauthlib>=0.7.0 in /usr/local/lib/python3.7/dist-packages (from google-auth-oauthlib<0.5,>=0.4.1->tensorboard) (1.3.1)\n",
            "Requirement already satisfied: importlib-metadata>=4.4 in /usr/local/lib/python3.7/dist-packages (from markdown>=2.6.8->tensorboard) (4.13.0)\n",
            "Requirement already satisfied: typing-extensions>=3.6.4 in /usr/local/lib/python3.7/dist-packages (from importlib-metadata>=4.4->markdown>=2.6.8->tensorboard) (4.1.1)\n",
            "Requirement already satisfied: zipp>=0.5 in /usr/local/lib/python3.7/dist-packages (from importlib-metadata>=4.4->markdown>=2.6.8->tensorboard) (3.10.0)\n",
            "Requirement already satisfied: pyasn1<0.5.0,>=0.4.6 in /usr/local/lib/python3.7/dist-packages (from pyasn1-modules>=0.2.1->google-auth<3,>=1.6.3->tensorboard) (0.4.8)\n",
            "Requirement already satisfied: urllib3!=1.25.0,!=1.25.1,<1.26,>=1.21.1 in /usr/local/lib/python3.7/dist-packages (from requests<3,>=2.21.0->tensorboard) (1.24.3)\n",
            "Requirement already satisfied: certifi>=2017.4.17 in /usr/local/lib/python3.7/dist-packages (from requests<3,>=2.21.0->tensorboard) (2022.9.24)\n",
            "Requirement already satisfied: idna<3,>=2.5 in /usr/local/lib/python3.7/dist-packages (from requests<3,>=2.21.0->tensorboard) (2.10)\n",
            "Requirement already satisfied: chardet<4,>=3.0.2 in /usr/local/lib/python3.7/dist-packages (from requests<3,>=2.21.0->tensorboard) (3.0.4)\n",
            "Requirement already satisfied: oauthlib>=3.0.0 in /usr/local/lib/python3.7/dist-packages (from requests-oauthlib>=0.7.0->google-auth-oauthlib<0.5,>=0.4.1->tensorboard) (3.2.2)\n",
            "Installing collected packages: tensorboard\n",
            "  Attempting uninstall: tensorboard\n",
            "    Found existing installation: tensorboard 2.9.1\n",
            "    Uninstalling tensorboard-2.9.1:\n",
            "      Successfully uninstalled tensorboard-2.9.1\n",
            "\u001b[31mERROR: pip's dependency resolver does not currently take into account all the packages that are installed. This behaviour is the source of the following dependency conflicts.\n",
            "tensorflow 2.9.2 requires tensorboard<2.10,>=2.9, but you have tensorboard 2.11.0 which is incompatible.\u001b[0m\n",
            "Successfully installed tensorboard-2.11.0\n"
          ]
        }
      ]
    },
    {
      "cell_type": "code",
      "source": [
        "import numpy as np\n",
        "import torch\n",
        "import torchvision\n",
        "from torch import nn\n",
        "from torch.nn import functional as F\n",
        "from torch.utils.data import Dataset, DataLoader\n",
        "from torch.utils.tensorboard import SummaryWriter\n",
        "import plotly.graph_objects as go\n",
        "import random\n",
        "from sklearn.model_selection import train_test_split\n",
        "import matplotlib.pyplot as plt"
      ],
      "metadata": {
        "id": "Or109alghqH6"
      },
      "execution_count": 3,
      "outputs": []
    },
    {
      "cell_type": "markdown",
      "source": [
        "###Data loading"
      ],
      "metadata": {
        "id": "5PplIhPWhq_7"
      }
    },
    {
      "cell_type": "code",
      "source": [
        "class NeuralData(Dataset):\n",
        "  def __init__(self,data,transform=None):\n",
        "     \n",
        "     self.x = data[:,0]\n",
        "     self.y = data[:,1]\n",
        "     self.n_samples = data.shape[0]\n",
        "     self.transform = transform\n",
        "\n",
        "  def __getitem__(self,index):\n",
        "    sample = self.x[index],self.y[index]\n",
        "    if self.transform:\n",
        "      sample = self.transform(sample)\n",
        "    return sample\n",
        "\n",
        "  def __len__(self):\n",
        "    return self.n_samples\n",
        "\n",
        "# Downsample function for each spike sequence\n",
        "class Downsample:\n",
        "  def __init__(self,samplesize):\n",
        "    self.samplesize=samplesize\n",
        "  \n",
        "  def __call__(self,sample):\n",
        "    features,label = sample\n",
        "    idx = np.random.randint(len(features), size=self.samplesize)\n",
        "    return features[idx,:],label\n",
        "\n",
        "# Return only three elements\n",
        "class Pickthree:\n",
        "  def __call__(self,sample):\n",
        "    features,label = sample\n",
        "    return features[:,1:],label\n",
        "\n",
        "composed = torchvision.transforms.Compose([\n",
        "    Downsample(2000),\n",
        "    Pickthree()\n",
        "])"
      ],
      "metadata": {
        "id": "1qQ_9ZoOp9I_"
      },
      "execution_count": 4,
      "outputs": []
    },
    {
      "cell_type": "code",
      "source": [
        "data = np.load('/content/drive/MyDrive/modelnet/stacked.npy',allow_pickle=True)\n",
        "len_data = data.shape[0]\n",
        "train_idx, val_idx = train_test_split([i for i in range(len_data)],test_size=0.2)\n",
        "\n",
        "train_dataset = NeuralData(data=data[train_idx, :],transform=composed)\n",
        "val_dataset = NeuralData(data=data[val_idx, :], transform=composed)"
      ],
      "metadata": {
        "id": "4Tg0iOkB2emS"
      },
      "execution_count": 5,
      "outputs": []
    },
    {
      "cell_type": "code",
      "source": [
        "len(train_idx) / 32"
      ],
      "metadata": {
        "colab": {
          "base_uri": "https://localhost:8080/"
        },
        "id": "MXEavOnD0WSx",
        "outputId": "23498363-6409-4192-f441-1ecb482ef701"
      },
      "execution_count": 6,
      "outputs": [
        {
          "output_type": "execute_result",
          "data": {
            "text/plain": [
              "7.125"
            ]
          },
          "metadata": {},
          "execution_count": 6
        }
      ]
    },
    {
      "cell_type": "code",
      "source": [
        "train_dataloader = DataLoader(dataset=train_dataset,batch_size=16,shuffle=True)\n",
        "val_dataloader = DataLoader(dataset=val_dataset,batch_size=16,shuffle=False)"
      ],
      "metadata": {
        "id": "qoh4F6OuSXyj"
      },
      "execution_count": 7,
      "outputs": []
    },
    {
      "cell_type": "code",
      "source": [
        "#testing that dataloader works\n",
        "train_dataiter = iter(val_dataloader)\n",
        "data = train_dataiter.next()\n",
        "features,label = data\n",
        "print(features,label)"
      ],
      "metadata": {
        "colab": {
          "base_uri": "https://localhost:8080/"
        },
        "id": "DHEOFPKwSOp0",
        "outputId": "6ebf6414-12a8-442c-bf19-e7995da8b175"
      },
      "execution_count": 8,
      "outputs": [
        {
          "output_type": "stream",
          "name": "stdout",
          "text": [
            "tensor([[[3.1914e+01, 3.7659e+03, 1.3009e+01],\n",
            "         [1.1912e+01, 1.6535e+03, 2.1710e+01],\n",
            "         [2.8916e+01, 4.4254e+02, 1.0574e+01],\n",
            "         ...,\n",
            "         [4.2182e+01, 1.2919e+03, 8.5609e+00],\n",
            "         [1.1457e+01, 7.6587e+02, 8.7563e+00],\n",
            "         [5.2416e+01, 1.8249e+03, 1.4805e+01]],\n",
            "\n",
            "        [[2.0703e+01, 8.1886e+02, 1.9517e+01],\n",
            "         [5.2303e+01, 1.6442e+03, 9.2769e+00],\n",
            "         [7.1448e+01, 1.2453e+03, 7.8879e+00],\n",
            "         ...,\n",
            "         [1.9253e+01, 3.1349e+03, 8.6443e+00],\n",
            "         [6.8752e+01, 2.0829e+02, 1.1152e+01],\n",
            "         [3.5730e+00, 1.0321e+03, 6.9389e+00]],\n",
            "\n",
            "        [[8.1421e+01, 2.9198e+02, 7.4585e+00],\n",
            "         [2.7154e+01, 9.7906e+02, 9.4324e+00],\n",
            "         [6.8837e+01, 2.6173e+02, 8.9561e+00],\n",
            "         ...,\n",
            "         [1.0505e+01, 3.1472e+03, 1.0998e+01],\n",
            "         [7.7641e+00, 3.0804e+03, 1.2786e+01],\n",
            "         [1.5899e+01, 5.9690e+02, 1.2098e+01]],\n",
            "\n",
            "        ...,\n",
            "\n",
            "        [[5.2434e+01, 9.4622e+02, 2.3428e+01],\n",
            "         [5.8265e+01, 3.0721e+03, 1.0270e+01],\n",
            "         [5.8449e+00, 1.2850e+03, 7.4547e+00],\n",
            "         ...,\n",
            "         [5.2815e+01, 1.4083e+03, 9.6532e+00],\n",
            "         [1.9232e+01, 1.0583e+03, 9.8636e+00],\n",
            "         [5.2194e+01, 9.0115e+02, 5.3768e+00]],\n",
            "\n",
            "        [[1.3556e+01, 3.6519e+03, 1.0347e+01],\n",
            "         [4.0363e+01, 1.4721e+03, 7.0948e+00],\n",
            "         [7.0814e+01, 4.2489e+02, 7.4710e+00],\n",
            "         ...,\n",
            "         [1.0385e+02, 2.4702e+03, 5.0973e+00],\n",
            "         [6.0572e+00, 8.0991e+02, 9.8721e+00],\n",
            "         [5.3856e+01, 3.0054e+03, 1.0089e+01]],\n",
            "\n",
            "        [[4.4688e+01, 9.3313e+02, 3.6405e+01],\n",
            "         [4.6552e+01, 1.8187e+03, 8.7089e+00],\n",
            "         [1.2504e+01, 3.0116e+03, 1.0959e+01],\n",
            "         ...,\n",
            "         [1.4565e+01, 1.9668e+03, 8.4096e+00],\n",
            "         [5.3681e+01, 2.4991e+03, 9.4451e+00],\n",
            "         [2.4590e+01, 4.4864e+02, 7.5660e+00]]], dtype=torch.float64) tensor([0., 0., 0., 0., 0., 0., 0., 1., 0., 0., 0., 0., 0., 0., 0., 0.],\n",
            "       dtype=torch.float64)\n"
          ]
        }
      ]
    },
    {
      "cell_type": "markdown",
      "source": [
        "### Model"
      ],
      "metadata": {
        "id": "mLCKj6FUUpyF"
      }
    },
    {
      "cell_type": "code",
      "source": [
        "class Tnet(nn.Module):\n",
        "   def __init__(self, k=3):\n",
        "      super().__init__()\n",
        "      self.k=k\n",
        "      self.conv1 = nn.Conv1d(k,64,1)\n",
        "      self.conv2 = nn.Conv1d(64,128,1)\n",
        "      self.conv3 = nn.Conv1d(128,1024,1)\n",
        "      self.fc1 = nn.Linear(1024,512)\n",
        "      self.fc2 = nn.Linear(512,256)\n",
        "      self.fc3 = nn.Linear(256,k*k)\n",
        "\n",
        "      self.bn1 = nn.BatchNorm1d(64)\n",
        "      self.bn2 = nn.BatchNorm1d(128)\n",
        "      self.bn3 = nn.BatchNorm1d(1024)\n",
        "      self.bn4 = nn.BatchNorm1d(512)\n",
        "      self.bn5 = nn.BatchNorm1d(256)\n",
        "       \n",
        "\n",
        "   def forward(self, input):\n",
        "      # input.shape == (bs,n,3)\n",
        "      bs = input.size(0)\n",
        "      xb = F.relu(self.bn1(self.conv1(input)))\n",
        "      xb = F.relu(self.bn2(self.conv2(xb)))\n",
        "      xb = F.relu(self.bn3(self.conv3(xb)))\n",
        "      pool = nn.MaxPool1d(xb.size(-1))(xb)\n",
        "      flat = nn.Flatten(1)(pool)\n",
        "      xb = F.relu(self.bn4(self.fc1(flat)))\n",
        "      xb = F.relu(self.bn5(self.fc2(xb)))\n",
        "      \n",
        "      #initialize as identity\n",
        "      init = torch.eye(self.k, requires_grad=True).repeat(bs,1,1)\n",
        "      if xb.is_cuda:\n",
        "        init=init.cuda()\n",
        "      matrix = self.fc3(xb).view(-1,self.k,self.k) + init\n",
        "      return matrix\n",
        "\n",
        "\n",
        "class Transform(nn.Module):\n",
        "   def __init__(self):\n",
        "        super().__init__()\n",
        "        self.input_transform = Tnet(k=3)\n",
        "        self.feature_transform = Tnet(k=64)\n",
        "        self.conv1 = nn.Conv1d(3,64,1)\n",
        "\n",
        "        self.conv2 = nn.Conv1d(64,128,1)\n",
        "        self.conv3 = nn.Conv1d(128,1024,1)\n",
        "       \n",
        "\n",
        "        self.bn1 = nn.BatchNorm1d(64)\n",
        "        self.bn2 = nn.BatchNorm1d(128)\n",
        "        self.bn3 = nn.BatchNorm1d(1024)\n",
        "       \n",
        "   def forward(self, input):\n",
        "        matrix3x3 = self.input_transform(input)\n",
        "        # batch matrix multiplication\n",
        "        xb = torch.bmm(torch.transpose(input,1,2), matrix3x3).transpose(1,2)\n",
        "\n",
        "        xb = F.relu(self.bn1(self.conv1(xb)))\n",
        "\n",
        "        matrix64x64 = self.feature_transform(xb)\n",
        "        xb = torch.bmm(torch.transpose(xb,1,2), matrix64x64).transpose(1,2)\n",
        "\n",
        "        xb = F.relu(self.bn2(self.conv2(xb)))\n",
        "        xb = self.bn3(self.conv3(xb))\n",
        "        xb = nn.MaxPool1d(xb.size(-1))(xb)\n",
        "        output = nn.Flatten(1)(xb)\n",
        "        return output, matrix3x3, matrix64x64\n",
        "\n",
        "class PointNet(nn.Module):\n",
        "    def __init__(self, classes = 10):\n",
        "        super().__init__()\n",
        "        self.transform = Transform()\n",
        "        self.fc1 = nn.Linear(1024, 512)\n",
        "        self.fc2 = nn.Linear(512, 256)\n",
        "        self.fc3 = nn.Linear(256, classes)\n",
        "        \n",
        "\n",
        "        self.bn1 = nn.BatchNorm1d(512)\n",
        "        self.bn2 = nn.BatchNorm1d(256)\n",
        "        self.dropout = nn.Dropout(p=0.3)\n",
        "        self.logsoftmax = nn.LogSoftmax(dim=1)\n",
        "\n",
        "    def forward(self, input):\n",
        "        xb, matrix3x3, matrix64x64 = self.transform(input)\n",
        "        xb = F.relu(self.bn1(self.fc1(xb)))\n",
        "        xb = F.relu(self.bn2(self.dropout(self.fc2(xb))))\n",
        "        output = self.fc3(xb)\n",
        "        return self.logsoftmax(output), matrix3x3, matrix64x64"
      ],
      "metadata": {
        "id": "bamto-NiUdP0"
      },
      "execution_count": 9,
      "outputs": []
    },
    {
      "cell_type": "code",
      "source": [
        "def pointnetloss(outputs, labels, m3x3, m64x64, alpha = 0.0001):\n",
        "    criterion = torch.nn.NLLLoss()\n",
        "    bs=outputs.size(0)\n",
        "    id3x3 = torch.eye(3, requires_grad=True).repeat(bs,1,1)\n",
        "    id64x64 = torch.eye(64, requires_grad=True).repeat(bs,1,1)\n",
        "    if outputs.is_cuda:\n",
        "        id3x3=id3x3.cuda()\n",
        "        id64x64=id64x64.cuda()\n",
        "    diff3x3 = id3x3-torch.bmm(m3x3,m3x3.transpose(1,2))\n",
        "    diff64x64 = id64x64-torch.bmm(m64x64,m64x64.transpose(1,2))\n",
        "    #print(outputs.device, labels.device)\n",
        "    return criterion(outputs, labels.type(torch.LongTensor).to(device)) + alpha * (torch.norm(diff3x3)+torch.norm(diff64x64)) / float(bs)"
      ],
      "metadata": {
        "id": "pPGTGLBnVTZ_"
      },
      "execution_count": 10,
      "outputs": []
    },
    {
      "cell_type": "markdown",
      "source": [
        "###Training"
      ],
      "metadata": {
        "id": "nmkLMMubVUxs"
      }
    },
    {
      "cell_type": "code",
      "source": [
        "device = torch.device(\"cuda:0\" if torch.cuda.is_available() else \"cpu\")\n",
        "print(device)"
      ],
      "metadata": {
        "colab": {
          "base_uri": "https://localhost:8080/"
        },
        "id": "ysAEk9NXVWnR",
        "outputId": "441202bc-1505-4ebe-d2be-9d5a49c12f96"
      },
      "execution_count": 11,
      "outputs": [
        {
          "output_type": "stream",
          "name": "stdout",
          "text": [
            "cuda:0\n"
          ]
        }
      ]
    },
    {
      "cell_type": "code",
      "source": [
        "pointnet = PointNet()\n",
        "pointnet.to(device);"
      ],
      "metadata": {
        "id": "GEJ0BtwpVd8G"
      },
      "execution_count": 12,
      "outputs": []
    },
    {
      "cell_type": "code",
      "source": [
        "optimizer = torch.optim.Adam(pointnet.parameters(), lr=0.001)"
      ],
      "metadata": {
        "id": "bagO2E06WJFX"
      },
      "execution_count": 13,
      "outputs": []
    },
    {
      "cell_type": "code",
      "source": [
        "len(train_dataset)"
      ],
      "metadata": {
        "colab": {
          "base_uri": "https://localhost:8080/"
        },
        "id": "G1u7Cubez7-K",
        "outputId": "bdf688ce-5206-48c8-b680-3f9920e41c53"
      },
      "execution_count": 14,
      "outputs": [
        {
          "output_type": "execute_result",
          "data": {
            "text/plain": [
              "228"
            ]
          },
          "metadata": {},
          "execution_count": 14
        }
      ]
    },
    {
      "cell_type": "code",
      "source": [
        "def train(model, train_loader, val_loader=None,  epochs=15, save=True):\n",
        "    writer = SummaryWriter()\n",
        "    for epoch in range(epochs): \n",
        "        pointnet.train()\n",
        "        running_loss = 0.0\n",
        "        sum_loss = []\n",
        "        sum_loss_valid = []\n",
        "\n",
        "        for i, data in enumerate(train_loader, 0):\n",
        "            inputs = data[0]\n",
        "            labels = data[1]\n",
        "            #print(type(inputs), type(labels))\n",
        "            inputs = inputs.float()\n",
        "            labels = labels\n",
        "            inputs, labels = inputs.to(device), labels.to(device)\n",
        "            optimizer.zero_grad()\n",
        "            outputs, m3x3, m64x64 = pointnet(inputs.transpose(1,2))\n",
        "\n",
        "            loss = pointnetloss(outputs, labels, m3x3, m64x64)\n",
        "            sum_loss.append(loss)\n",
        "\n",
        "            optimizer.zero_grad()\n",
        "            loss.backward()\n",
        "            optimizer.step()\n",
        "\n",
        "            # print statistics\n",
        "            running_loss = loss.item()\n",
        "            print('[Epoch: %d, Batch: %4d / %4d], loss: %.3f' %\n",
        "                        (epoch + 1, i + 1, len(train_loader), running_loss / 10))\n",
        "            \n",
        "        pointnet.eval()\n",
        "        correct = total = 0\n",
        "\n",
        "        # validation\n",
        "        if val_loader:\n",
        "            with torch.no_grad():\n",
        "                for data in val_loader:\n",
        "                    inputs, labels = data[0].to(device).float(), data[1].to(device)\n",
        "                    \n",
        "                    outputs, m3x3, m64x64 = pointnet(inputs.transpose(1,2))\n",
        "                    val_loss = pointnetloss(outputs, labels, m3x3, m64x64)\n",
        "                    sum_loss_valid.append(val_loss)\n",
        "\n",
        "                    running_loss = val_loss.item()\n",
        "                    \n",
        "                    print('[Epoch: %d, Batch: %4d / %4d], val_loss: %.3f' %\n",
        "                        (epoch + 1, i + 1, len(train_loader), running_loss / 10))\n",
        "\n",
        "                    _, predicted = torch.max(outputs.data, 1)\n",
        "                    total += labels.size(0)\n",
        "                    correct += (predicted == labels).sum().item()\n",
        "            val_acc = 100. * correct / total\n",
        "            print('Valid accuracy: %d %%' % val_acc)\n",
        "\n",
        "        # save the model\n",
        "        if save:\n",
        "            torch.save(pointnet.state_dict(), \"save_\"+str(epoch)+\".pth\")\n",
        "        \n",
        "        writer.add_scalars(\"Loss\",{\"Train\":sum(sum_loss)/len(sum_loss),\"Validation\":sum(sum_loss_valid)/len(sum_loss_valid)},epoch+1)\n",
        "    writer.flush()"
      ],
      "metadata": {
        "id": "8PC_i-CaWMTQ"
      },
      "execution_count": 28,
      "outputs": []
    },
    {
      "cell_type": "code",
      "source": [
        "train(pointnet, train_dataloader, val_dataloader,  save=False)"
      ],
      "metadata": {
        "colab": {
          "base_uri": "https://localhost:8080/"
        },
        "id": "xKEUIt7pWP_6",
        "outputId": "bae3f9fc-b19b-4805-c154-63ed9702969a"
      },
      "execution_count": 29,
      "outputs": [
        {
          "output_type": "stream",
          "name": "stdout",
          "text": [
            "[Epoch: 1, Batch:    1 /   15], loss: 0.050\n",
            "[Epoch: 1, Batch:    2 /   15], loss: 0.071\n",
            "[Epoch: 1, Batch:    3 /   15], loss: 0.055\n",
            "[Epoch: 1, Batch:    4 /   15], loss: 0.067\n",
            "[Epoch: 1, Batch:    5 /   15], loss: 0.043\n",
            "[Epoch: 1, Batch:    6 /   15], loss: 0.061\n",
            "[Epoch: 1, Batch:    7 /   15], loss: 0.052\n",
            "[Epoch: 1, Batch:    8 /   15], loss: 0.068\n",
            "[Epoch: 1, Batch:    9 /   15], loss: 0.077\n",
            "[Epoch: 1, Batch:   10 /   15], loss: 0.045\n",
            "[Epoch: 1, Batch:   11 /   15], loss: 0.059\n",
            "[Epoch: 1, Batch:   12 /   15], loss: 0.067\n",
            "[Epoch: 1, Batch:   13 /   15], loss: 0.062\n",
            "[Epoch: 1, Batch:   14 /   15], loss: 0.039\n",
            "[Epoch: 1, Batch:   15 /   15], loss: 0.062\n",
            "[Epoch: 1, Batch:   15 /   15], val_loss: 0.033\n",
            "[Epoch: 1, Batch:   15 /   15], val_loss: 0.059\n",
            "[Epoch: 1, Batch:   15 /   15], val_loss: 0.045\n",
            "[Epoch: 1, Batch:   15 /   15], val_loss: 0.039\n",
            "Valid accuracy: 86 %\n",
            "[Epoch: 2, Batch:    1 /   15], loss: 0.065\n",
            "[Epoch: 2, Batch:    2 /   15], loss: 0.065\n",
            "[Epoch: 2, Batch:    3 /   15], loss: 0.051\n",
            "[Epoch: 2, Batch:    4 /   15], loss: 0.049\n",
            "[Epoch: 2, Batch:    5 /   15], loss: 0.059\n",
            "[Epoch: 2, Batch:    6 /   15], loss: 0.075\n",
            "[Epoch: 2, Batch:    7 /   15], loss: 0.044\n",
            "[Epoch: 2, Batch:    8 /   15], loss: 0.084\n",
            "[Epoch: 2, Batch:    9 /   15], loss: 0.058\n",
            "[Epoch: 2, Batch:   10 /   15], loss: 0.053\n",
            "[Epoch: 2, Batch:   11 /   15], loss: 0.055\n",
            "[Epoch: 2, Batch:   12 /   15], loss: 0.063\n",
            "[Epoch: 2, Batch:   13 /   15], loss: 0.052\n",
            "[Epoch: 2, Batch:   14 /   15], loss: 0.046\n",
            "[Epoch: 2, Batch:   15 /   15], loss: 0.055\n",
            "[Epoch: 2, Batch:   15 /   15], val_loss: 0.016\n",
            "[Epoch: 2, Batch:   15 /   15], val_loss: 0.125\n",
            "[Epoch: 2, Batch:   15 /   15], val_loss: 0.075\n",
            "[Epoch: 2, Batch:   15 /   15], val_loss: 0.055\n",
            "Valid accuracy: 86 %\n",
            "[Epoch: 3, Batch:    1 /   15], loss: 0.054\n",
            "[Epoch: 3, Batch:    2 /   15], loss: 0.050\n",
            "[Epoch: 3, Batch:    3 /   15], loss: 0.088\n",
            "[Epoch: 3, Batch:    4 /   15], loss: 0.063\n",
            "[Epoch: 3, Batch:    5 /   15], loss: 0.052\n",
            "[Epoch: 3, Batch:    6 /   15], loss: 0.051\n",
            "[Epoch: 3, Batch:    7 /   15], loss: 0.048\n",
            "[Epoch: 3, Batch:    8 /   15], loss: 0.071\n",
            "[Epoch: 3, Batch:    9 /   15], loss: 0.045\n",
            "[Epoch: 3, Batch:   10 /   15], loss: 0.052\n",
            "[Epoch: 3, Batch:   11 /   15], loss: 0.043\n",
            "[Epoch: 3, Batch:   12 /   15], loss: 0.068\n",
            "[Epoch: 3, Batch:   13 /   15], loss: 0.058\n",
            "[Epoch: 3, Batch:   14 /   15], loss: 0.055\n",
            "[Epoch: 3, Batch:   15 /   15], loss: 0.102\n",
            "[Epoch: 3, Batch:   15 /   15], val_loss: 0.041\n",
            "[Epoch: 3, Batch:   15 /   15], val_loss: 0.059\n",
            "[Epoch: 3, Batch:   15 /   15], val_loss: 0.046\n",
            "[Epoch: 3, Batch:   15 /   15], val_loss: 0.044\n",
            "Valid accuracy: 86 %\n",
            "[Epoch: 4, Batch:    1 /   15], loss: 0.059\n",
            "[Epoch: 4, Batch:    2 /   15], loss: 0.064\n",
            "[Epoch: 4, Batch:    3 /   15], loss: 0.050\n",
            "[Epoch: 4, Batch:    4 /   15], loss: 0.071\n",
            "[Epoch: 4, Batch:    5 /   15], loss: 0.055\n",
            "[Epoch: 4, Batch:    6 /   15], loss: 0.052\n",
            "[Epoch: 4, Batch:    7 /   15], loss: 0.061\n",
            "[Epoch: 4, Batch:    8 /   15], loss: 0.057\n",
            "[Epoch: 4, Batch:    9 /   15], loss: 0.052\n",
            "[Epoch: 4, Batch:   10 /   15], loss: 0.085\n",
            "[Epoch: 4, Batch:   11 /   15], loss: 0.059\n",
            "[Epoch: 4, Batch:   12 /   15], loss: 0.051\n",
            "[Epoch: 4, Batch:   13 /   15], loss: 0.049\n",
            "[Epoch: 4, Batch:   14 /   15], loss: 0.061\n",
            "[Epoch: 4, Batch:   15 /   15], loss: 0.032\n",
            "[Epoch: 4, Batch:   15 /   15], val_loss: 0.045\n",
            "[Epoch: 4, Batch:   15 /   15], val_loss: 0.059\n",
            "[Epoch: 4, Batch:   15 /   15], val_loss: 0.054\n",
            "[Epoch: 4, Batch:   15 /   15], val_loss: 0.046\n",
            "Valid accuracy: 86 %\n",
            "[Epoch: 5, Batch:    1 /   15], loss: 0.067\n",
            "[Epoch: 5, Batch:    2 /   15], loss: 0.073\n",
            "[Epoch: 5, Batch:    3 /   15], loss: 0.053\n",
            "[Epoch: 5, Batch:    4 /   15], loss: 0.067\n",
            "[Epoch: 5, Batch:    5 /   15], loss: 0.054\n",
            "[Epoch: 5, Batch:    6 /   15], loss: 0.054\n",
            "[Epoch: 5, Batch:    7 /   15], loss: 0.065\n",
            "[Epoch: 5, Batch:    8 /   15], loss: 0.065\n",
            "[Epoch: 5, Batch:    9 /   15], loss: 0.072\n",
            "[Epoch: 5, Batch:   10 /   15], loss: 0.045\n",
            "[Epoch: 5, Batch:   11 /   15], loss: 0.046\n",
            "[Epoch: 5, Batch:   12 /   15], loss: 0.045\n",
            "[Epoch: 5, Batch:   13 /   15], loss: 0.057\n",
            "[Epoch: 5, Batch:   14 /   15], loss: 0.051\n",
            "[Epoch: 5, Batch:   15 /   15], loss: 0.048\n",
            "[Epoch: 5, Batch:   15 /   15], val_loss: 0.071\n",
            "[Epoch: 5, Batch:   15 /   15], val_loss: 0.059\n",
            "[Epoch: 5, Batch:   15 /   15], val_loss: 0.046\n",
            "[Epoch: 5, Batch:   15 /   15], val_loss: 0.045\n",
            "Valid accuracy: 86 %\n",
            "[Epoch: 6, Batch:    1 /   15], loss: 0.056\n",
            "[Epoch: 6, Batch:    2 /   15], loss: 0.052\n",
            "[Epoch: 6, Batch:    3 /   15], loss: 0.069\n",
            "[Epoch: 6, Batch:    4 /   15], loss: 0.056\n",
            "[Epoch: 6, Batch:    5 /   15], loss: 0.059\n",
            "[Epoch: 6, Batch:    6 /   15], loss: 0.070\n",
            "[Epoch: 6, Batch:    7 /   15], loss: 0.070\n",
            "[Epoch: 6, Batch:    8 /   15], loss: 0.050\n",
            "[Epoch: 6, Batch:    9 /   15], loss: 0.042\n",
            "[Epoch: 6, Batch:   10 /   15], loss: 0.055\n",
            "[Epoch: 6, Batch:   11 /   15], loss: 0.048\n",
            "[Epoch: 6, Batch:   12 /   15], loss: 0.047\n",
            "[Epoch: 6, Batch:   13 /   15], loss: 0.061\n",
            "[Epoch: 6, Batch:   14 /   15], loss: 0.063\n",
            "[Epoch: 6, Batch:   15 /   15], loss: 0.110\n",
            "[Epoch: 6, Batch:   15 /   15], val_loss: 0.048\n",
            "[Epoch: 6, Batch:   15 /   15], val_loss: 0.059\n",
            "[Epoch: 6, Batch:   15 /   15], val_loss: 0.076\n",
            "[Epoch: 6, Batch:   15 /   15], val_loss: 0.050\n",
            "Valid accuracy: 84 %\n",
            "[Epoch: 7, Batch:    1 /   15], loss: 0.070\n",
            "[Epoch: 7, Batch:    2 /   15], loss: 0.053\n",
            "[Epoch: 7, Batch:    3 /   15], loss: 0.057\n",
            "[Epoch: 7, Batch:    4 /   15], loss: 0.055\n",
            "[Epoch: 7, Batch:    5 /   15], loss: 0.063\n",
            "[Epoch: 7, Batch:    6 /   15], loss: 0.057\n",
            "[Epoch: 7, Batch:    7 /   15], loss: 0.045\n",
            "[Epoch: 7, Batch:    8 /   15], loss: 0.047\n",
            "[Epoch: 7, Batch:    9 /   15], loss: 0.065\n",
            "[Epoch: 7, Batch:   10 /   15], loss: 0.055\n",
            "[Epoch: 7, Batch:   11 /   15], loss: 0.063\n",
            "[Epoch: 7, Batch:   12 /   15], loss: 0.054\n",
            "[Epoch: 7, Batch:   13 /   15], loss: 0.054\n",
            "[Epoch: 7, Batch:   14 /   15], loss: 0.071\n",
            "[Epoch: 7, Batch:   15 /   15], loss: 0.076\n",
            "[Epoch: 7, Batch:   15 /   15], val_loss: 0.045\n",
            "[Epoch: 7, Batch:   15 /   15], val_loss: 0.057\n",
            "[Epoch: 7, Batch:   15 /   15], val_loss: 0.050\n",
            "[Epoch: 7, Batch:   15 /   15], val_loss: 0.049\n",
            "Valid accuracy: 86 %\n",
            "[Epoch: 8, Batch:    1 /   15], loss: 0.047\n",
            "[Epoch: 8, Batch:    2 /   15], loss: 0.074\n",
            "[Epoch: 8, Batch:    3 /   15], loss: 0.058\n",
            "[Epoch: 8, Batch:    4 /   15], loss: 0.037\n",
            "[Epoch: 8, Batch:    5 /   15], loss: 0.048\n",
            "[Epoch: 8, Batch:    6 /   15], loss: 0.084\n",
            "[Epoch: 8, Batch:    7 /   15], loss: 0.058\n",
            "[Epoch: 8, Batch:    8 /   15], loss: 0.051\n",
            "[Epoch: 8, Batch:    9 /   15], loss: 0.057\n",
            "[Epoch: 8, Batch:   10 /   15], loss: 0.074\n",
            "[Epoch: 8, Batch:   11 /   15], loss: 0.053\n",
            "[Epoch: 8, Batch:   12 /   15], loss: 0.082\n",
            "[Epoch: 8, Batch:   13 /   15], loss: 0.064\n",
            "[Epoch: 8, Batch:   14 /   15], loss: 0.058\n",
            "[Epoch: 8, Batch:   15 /   15], loss: 0.087\n",
            "[Epoch: 8, Batch:   15 /   15], val_loss: 0.141\n",
            "[Epoch: 8, Batch:   15 /   15], val_loss: 0.096\n",
            "[Epoch: 8, Batch:   15 /   15], val_loss: 0.065\n",
            "[Epoch: 8, Batch:   15 /   15], val_loss: 0.065\n",
            "Valid accuracy: 86 %\n",
            "[Epoch: 9, Batch:    1 /   15], loss: 0.074\n",
            "[Epoch: 9, Batch:    2 /   15], loss: 0.052\n",
            "[Epoch: 9, Batch:    3 /   15], loss: 0.078\n",
            "[Epoch: 9, Batch:    4 /   15], loss: 0.061\n",
            "[Epoch: 9, Batch:    5 /   15], loss: 0.058\n",
            "[Epoch: 9, Batch:    6 /   15], loss: 0.060\n",
            "[Epoch: 9, Batch:    7 /   15], loss: 0.047\n",
            "[Epoch: 9, Batch:    8 /   15], loss: 0.058\n",
            "[Epoch: 9, Batch:    9 /   15], loss: 0.063\n",
            "[Epoch: 9, Batch:   10 /   15], loss: 0.055\n",
            "[Epoch: 9, Batch:   11 /   15], loss: 0.045\n",
            "[Epoch: 9, Batch:   12 /   15], loss: 0.069\n",
            "[Epoch: 9, Batch:   13 /   15], loss: 0.057\n",
            "[Epoch: 9, Batch:   14 /   15], loss: 0.052\n",
            "[Epoch: 9, Batch:   15 /   15], loss: 0.055\n",
            "[Epoch: 9, Batch:   15 /   15], val_loss: 0.042\n",
            "[Epoch: 9, Batch:   15 /   15], val_loss: 0.059\n",
            "[Epoch: 9, Batch:   15 /   15], val_loss: 0.049\n",
            "[Epoch: 9, Batch:   15 /   15], val_loss: 0.047\n",
            "Valid accuracy: 86 %\n",
            "[Epoch: 10, Batch:    1 /   15], loss: 0.051\n",
            "[Epoch: 10, Batch:    2 /   15], loss: 0.075\n",
            "[Epoch: 10, Batch:    3 /   15], loss: 0.074\n",
            "[Epoch: 10, Batch:    4 /   15], loss: 0.055\n",
            "[Epoch: 10, Batch:    5 /   15], loss: 0.062\n",
            "[Epoch: 10, Batch:    6 /   15], loss: 0.065\n",
            "[Epoch: 10, Batch:    7 /   15], loss: 0.046\n",
            "[Epoch: 10, Batch:    8 /   15], loss: 0.052\n",
            "[Epoch: 10, Batch:    9 /   15], loss: 0.048\n",
            "[Epoch: 10, Batch:   10 /   15], loss: 0.051\n",
            "[Epoch: 10, Batch:   11 /   15], loss: 0.047\n",
            "[Epoch: 10, Batch:   12 /   15], loss: 0.058\n",
            "[Epoch: 10, Batch:   13 /   15], loss: 0.043\n",
            "[Epoch: 10, Batch:   14 /   15], loss: 0.092\n",
            "[Epoch: 10, Batch:   15 /   15], loss: 0.048\n",
            "[Epoch: 10, Batch:   15 /   15], val_loss: 0.042\n",
            "[Epoch: 10, Batch:   15 /   15], val_loss: 0.058\n",
            "[Epoch: 10, Batch:   15 /   15], val_loss: 0.048\n",
            "[Epoch: 10, Batch:   15 /   15], val_loss: 0.045\n",
            "Valid accuracy: 86 %\n",
            "[Epoch: 11, Batch:    1 /   15], loss: 0.061\n",
            "[Epoch: 11, Batch:    2 /   15], loss: 0.042\n",
            "[Epoch: 11, Batch:    3 /   15], loss: 0.070\n",
            "[Epoch: 11, Batch:    4 /   15], loss: 0.064\n",
            "[Epoch: 11, Batch:    5 /   15], loss: 0.080\n",
            "[Epoch: 11, Batch:    6 /   15], loss: 0.077\n",
            "[Epoch: 11, Batch:    7 /   15], loss: 0.047\n",
            "[Epoch: 11, Batch:    8 /   15], loss: 0.069\n",
            "[Epoch: 11, Batch:    9 /   15], loss: 0.055\n",
            "[Epoch: 11, Batch:   10 /   15], loss: 0.055\n",
            "[Epoch: 11, Batch:   11 /   15], loss: 0.046\n",
            "[Epoch: 11, Batch:   12 /   15], loss: 0.065\n",
            "[Epoch: 11, Batch:   13 /   15], loss: 0.048\n",
            "[Epoch: 11, Batch:   14 /   15], loss: 0.060\n",
            "[Epoch: 11, Batch:   15 /   15], loss: 0.029\n",
            "[Epoch: 11, Batch:   15 /   15], val_loss: 0.122\n",
            "[Epoch: 11, Batch:   15 /   15], val_loss: 0.083\n",
            "[Epoch: 11, Batch:   15 /   15], val_loss: 0.116\n",
            "[Epoch: 11, Batch:   15 /   15], val_loss: 0.117\n",
            "Valid accuracy: 17 %\n",
            "[Epoch: 12, Batch:    1 /   15], loss: 0.069\n",
            "[Epoch: 12, Batch:    2 /   15], loss: 0.065\n",
            "[Epoch: 12, Batch:    3 /   15], loss: 0.058\n",
            "[Epoch: 12, Batch:    4 /   15], loss: 0.036\n",
            "[Epoch: 12, Batch:    5 /   15], loss: 0.060\n",
            "[Epoch: 12, Batch:    6 /   15], loss: 0.050\n",
            "[Epoch: 12, Batch:    7 /   15], loss: 0.048\n",
            "[Epoch: 12, Batch:    8 /   15], loss: 0.062\n",
            "[Epoch: 12, Batch:    9 /   15], loss: 0.060\n",
            "[Epoch: 12, Batch:   10 /   15], loss: 0.040\n",
            "[Epoch: 12, Batch:   11 /   15], loss: 0.070\n",
            "[Epoch: 12, Batch:   12 /   15], loss: 0.079\n",
            "[Epoch: 12, Batch:   13 /   15], loss: 0.052\n",
            "[Epoch: 12, Batch:   14 /   15], loss: 0.078\n",
            "[Epoch: 12, Batch:   15 /   15], loss: 0.099\n",
            "[Epoch: 12, Batch:   15 /   15], val_loss: 0.045\n",
            "[Epoch: 12, Batch:   15 /   15], val_loss: 0.059\n",
            "[Epoch: 12, Batch:   15 /   15], val_loss: 0.051\n",
            "[Epoch: 12, Batch:   15 /   15], val_loss: 0.047\n",
            "Valid accuracy: 86 %\n",
            "[Epoch: 13, Batch:    1 /   15], loss: 0.078\n",
            "[Epoch: 13, Batch:    2 /   15], loss: 0.057\n",
            "[Epoch: 13, Batch:    3 /   15], loss: 0.064\n",
            "[Epoch: 13, Batch:    4 /   15], loss: 0.050\n",
            "[Epoch: 13, Batch:    5 /   15], loss: 0.051\n",
            "[Epoch: 13, Batch:    6 /   15], loss: 0.055\n",
            "[Epoch: 13, Batch:    7 /   15], loss: 0.063\n",
            "[Epoch: 13, Batch:    8 /   15], loss: 0.059\n",
            "[Epoch: 13, Batch:    9 /   15], loss: 0.048\n",
            "[Epoch: 13, Batch:   10 /   15], loss: 0.083\n",
            "[Epoch: 13, Batch:   11 /   15], loss: 0.061\n",
            "[Epoch: 13, Batch:   12 /   15], loss: 0.052\n",
            "[Epoch: 13, Batch:   13 /   15], loss: 0.058\n",
            "[Epoch: 13, Batch:   14 /   15], loss: 0.053\n",
            "[Epoch: 13, Batch:   15 /   15], loss: 0.051\n",
            "[Epoch: 13, Batch:   15 /   15], val_loss: 0.054\n",
            "[Epoch: 13, Batch:   15 /   15], val_loss: 0.063\n",
            "[Epoch: 13, Batch:   15 /   15], val_loss: 0.078\n",
            "[Epoch: 13, Batch:   15 /   15], val_loss: 0.078\n",
            "Valid accuracy: 75 %\n",
            "[Epoch: 14, Batch:    1 /   15], loss: 0.071\n",
            "[Epoch: 14, Batch:    2 /   15], loss: 0.052\n",
            "[Epoch: 14, Batch:    3 /   15], loss: 0.054\n",
            "[Epoch: 14, Batch:    4 /   15], loss: 0.062\n",
            "[Epoch: 14, Batch:    5 /   15], loss: 0.053\n",
            "[Epoch: 14, Batch:    6 /   15], loss: 0.033\n",
            "[Epoch: 14, Batch:    7 /   15], loss: 0.065\n",
            "[Epoch: 14, Batch:    8 /   15], loss: 0.056\n",
            "[Epoch: 14, Batch:    9 /   15], loss: 0.045\n",
            "[Epoch: 14, Batch:   10 /   15], loss: 0.039\n",
            "[Epoch: 14, Batch:   11 /   15], loss: 0.064\n",
            "[Epoch: 14, Batch:   12 /   15], loss: 0.063\n",
            "[Epoch: 14, Batch:   13 /   15], loss: 0.049\n",
            "[Epoch: 14, Batch:   14 /   15], loss: 0.096\n",
            "[Epoch: 14, Batch:   15 /   15], loss: 0.082\n",
            "[Epoch: 14, Batch:   15 /   15], val_loss: 0.076\n",
            "[Epoch: 14, Batch:   15 /   15], val_loss: 0.056\n",
            "[Epoch: 14, Batch:   15 /   15], val_loss: 0.055\n",
            "[Epoch: 14, Batch:   15 /   15], val_loss: 0.052\n",
            "Valid accuracy: 67 %\n",
            "[Epoch: 15, Batch:    1 /   15], loss: 0.058\n",
            "[Epoch: 15, Batch:    2 /   15], loss: 0.036\n",
            "[Epoch: 15, Batch:    3 /   15], loss: 0.064\n",
            "[Epoch: 15, Batch:    4 /   15], loss: 0.046\n",
            "[Epoch: 15, Batch:    5 /   15], loss: 0.060\n",
            "[Epoch: 15, Batch:    6 /   15], loss: 0.065\n",
            "[Epoch: 15, Batch:    7 /   15], loss: 0.089\n",
            "[Epoch: 15, Batch:    8 /   15], loss: 0.068\n",
            "[Epoch: 15, Batch:    9 /   15], loss: 0.048\n",
            "[Epoch: 15, Batch:   10 /   15], loss: 0.080\n",
            "[Epoch: 15, Batch:   11 /   15], loss: 0.039\n",
            "[Epoch: 15, Batch:   12 /   15], loss: 0.047\n",
            "[Epoch: 15, Batch:   13 /   15], loss: 0.055\n",
            "[Epoch: 15, Batch:   14 /   15], loss: 0.064\n",
            "[Epoch: 15, Batch:   15 /   15], loss: 0.071\n",
            "[Epoch: 15, Batch:   15 /   15], val_loss: 0.075\n",
            "[Epoch: 15, Batch:   15 /   15], val_loss: 0.084\n",
            "[Epoch: 15, Batch:   15 /   15], val_loss: 0.139\n",
            "[Epoch: 15, Batch:   15 /   15], val_loss: 0.090\n",
            "Valid accuracy: 63 %\n"
          ]
        }
      ]
    },
    {
      "cell_type": "code",
      "source": [
        "! tensorboard dev upload --logdir runs --name \"My latest experiment\" --description \"Simple comparison of several hyperparameters\" # optional"
      ],
      "metadata": {
        "colab": {
          "base_uri": "https://localhost:8080/"
        },
        "id": "Z_ZKyIdZLwNA",
        "outputId": "f8a5a530-d477-4fe4-ae5c-9d2aefa4f365"
      },
      "execution_count": 30,
      "outputs": [
        {
          "output_type": "stream",
          "name": "stdout",
          "text": [
            "Upload started and will continue reading any new data as it's added to the logdir.\n",
            "\n",
            "To stop uploading, press Ctrl-C.\n",
            "\n",
            "New experiment created. View your TensorBoard at: https://tensorboard.dev/experiment/DK0gbm6mRGWNJjAcPXf1bg/\n",
            "\n",
            "\u001b[1m[2022-11-29T03:46:12]\u001b[0m Started scanning logdir.\n",
            "\u001b[1m[2022-11-29T03:46:12]\u001b[0m Total uploaded: 30 scalars, 0 tensors, 0 binary objects\n",
            "\n",
            "\n",
            "Interrupted. View your TensorBoard at https://tensorboard.dev/experiment/DK0gbm6mRGWNJjAcPXf1bg/\n",
            "Traceback (most recent call last):\n",
            "  File \"/usr/local/bin/tensorboard\", line 8, in <module>\n",
            "    sys.exit(run_main())\n",
            "  File \"/usr/local/lib/python3.7/dist-packages/tensorboard/main.py\", line 46, in run_main\n",
            "    app.run(tensorboard.main, flags_parser=tensorboard.configure)\n",
            "  File \"/usr/local/lib/python3.7/dist-packages/absl/app.py\", line 308, in run\n",
            "    _run_main(main, args)\n",
            "  File \"/usr/local/lib/python3.7/dist-packages/absl/app.py\", line 254, in _run_main\n",
            "    sys.exit(main(argv))\n",
            "  File \"/usr/local/lib/python3.7/dist-packages/tensorboard/program.py\", line 276, in main\n",
            "    return runner(self.flags) or 0\n",
            "  File \"/usr/local/lib/python3.7/dist-packages/tensorboard/uploader/uploader_subcommand.py\", line 692, in run\n",
            "    return _run(flags, self._experiment_url_callback)\n",
            "  File \"/usr/local/lib/python3.7/dist-packages/tensorboard/uploader/uploader_subcommand.py\", line 125, in _run\n",
            "    intent.execute(server_info, channel)\n",
            "KeyboardInterrupt\n"
          ]
        }
      ]
    },
    {
      "cell_type": "code",
      "source": [
        "#for visualization of point cloud data\n",
        "def visualize_rotate(data):\n",
        "    x_eye, y_eye, z_eye = 1.25, 1.25, 0.8\n",
        "    frames=[]\n",
        "\n",
        "    def rotate_z(x, y, z, theta):\n",
        "        w = x+1j*y\n",
        "        return np.real(np.exp(1j*theta)*w), np.imag(np.exp(1j*theta)*w), z\n",
        "\n",
        "    for t in np.arange(0, 10.26, 0.1):\n",
        "        xe, ye, ze = rotate_z(x_eye, y_eye, z_eye, -t)\n",
        "        frames.append(dict(layout=dict(scene=dict(camera=dict(eye=dict(x=xe, y=ye, z=ze))))))\n",
        "    fig = go.Figure(data=data,\n",
        "                    layout=go.Layout(\n",
        "                        updatemenus=[dict(type='buttons',\n",
        "                                    showactive=False,\n",
        "                                    y=1,\n",
        "                                    x=0.8,\n",
        "                                    xanchor='left',\n",
        "                                    yanchor='bottom',\n",
        "                                    pad=dict(t=45, r=10),\n",
        "                                    buttons=[dict(label='Play',\n",
        "                                                    method='animate',\n",
        "                                                    args=[None, dict(frame=dict(duration=50, redraw=True),\n",
        "                                                                    transition=dict(duration=0),\n",
        "                                                                    fromcurrent=True,\n",
        "                                                                    mode='immediate'\n",
        "                                                                    )]\n",
        "                                                    )\n",
        "                                            ]\n",
        "                                    )\n",
        "                                ]\n",
        "                    ),\n",
        "                    frames=frames\n",
        "            )\n",
        "\n",
        "    return fig"
      ],
      "metadata": {
        "id": "1nqOIddhp902"
      },
      "execution_count": null,
      "outputs": []
    },
    {
      "cell_type": "code",
      "source": [
        "x = features[:,1]\n",
        "z = features[:,2]\n",
        "ptp = features[:,3]\n",
        "visualize_rotate([go.Mesh3d(x=x, y=ptp, z=z, color='lightpink', opacity=0.50)]).show()"
      ],
      "metadata": {
        "id": "hdGoEQCIsYSN"
      },
      "execution_count": null,
      "outputs": []
    },
    {
      "cell_type": "code",
      "source": [],
      "metadata": {
        "id": "G2Mng5ZivAXZ"
      },
      "execution_count": null,
      "outputs": []
    }
  ]
}